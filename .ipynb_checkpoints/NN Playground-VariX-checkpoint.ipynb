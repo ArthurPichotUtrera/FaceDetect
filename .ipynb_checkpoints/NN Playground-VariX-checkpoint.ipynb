{
 "cells": [
  {
   "cell_type": "markdown",
   "metadata": {},
   "source": [
    "# Neural network \"playground\"\n",
    "\n",
    "## imports"
   ]
  },
  {
   "cell_type": "code",
   "execution_count": 2,
   "metadata": {
    "ExecuteTime": {
     "end_time": "2016-11-16T15:26:48.594000",
     "start_time": "2016-11-16T15:26:48.005000"
    },
    "collapsed": false
   },
   "outputs": [],
   "source": [
    "import numpy as np\n",
    "from cStringIO import StringIO\n",
    "import matplotlib.pyplot as plt\n",
    "import caffe\n",
    "from IPython.display import clear_output, Image, display\n",
    "import cv2\n",
    "import PIL.Image\n",
    "import os"
   ]
  },
  {
   "cell_type": "code",
   "execution_count": 3,
   "metadata": {
    "ExecuteTime": {
     "end_time": "2016-11-16T15:26:48.608000",
     "start_time": "2016-11-16T15:26:48.594000"
    },
    "collapsed": false
   },
   "outputs": [],
   "source": [
    "os.chdir(\"start_deep/\")"
   ]
  },
  {
   "cell_type": "markdown",
   "metadata": {},
   "source": [
    "## Caffe computation mode"
   ]
  },
  {
   "cell_type": "markdown",
   "metadata": {},
   "source": [
    "### CPU"
   ]
  },
  {
   "cell_type": "code",
   "execution_count": 13,
   "metadata": {
    "ExecuteTime": {
     "end_time": "2016-11-16T15:32:14.601000",
     "start_time": "2016-11-16T15:32:14.596000"
    },
    "collapsed": true
   },
   "outputs": [],
   "source": [
    "caffe.set_mode_cpu()"
   ]
  },
  {
   "cell_type": "markdown",
   "metadata": {},
   "source": [
    "### GPU\n",
    "\n",
    "Make sure you enabled GPU suppor, and have a compatible (ie. nvidia) GPU"
   ]
  },
  {
   "cell_type": "code",
   "execution_count": 5,
   "metadata": {
    "ExecuteTime": {
     "end_time": "2016-11-16T15:26:49.062000",
     "start_time": "2016-11-16T15:26:49.043000"
    },
    "collapsed": true
   },
   "outputs": [],
   "source": [
    "caffe.set_device(0)\n",
    "caffe.set_mode_gpu()"
   ]
  },
  {
   "cell_type": "markdown",
   "metadata": {},
   "source": [
    "## Network loading and tests"
   ]
  },
  {
   "cell_type": "code",
   "execution_count": 6,
   "metadata": {
    "ExecuteTime": {
     "end_time": "2016-11-16T15:26:49.553000",
     "start_time": "2016-11-16T15:26:49.244000"
    },
    "collapsed": true
   },
   "outputs": [],
   "source": [
    "net = caffe.Net('deploy.prototxt', \"facenet_iter_200000.caffemodel\", caffe.TEST)\n",
    "#solver = caffe.SGDSolver('facenet_solver.prototxt')\n",
    "#test_net = solver.testnets[0]"
   ]
  },
  {
   "cell_type": "code",
   "execution_count": 7,
   "metadata": {
    "ExecuteTime": {
     "end_time": "2016-11-16T15:26:49.572000",
     "start_time": "2016-11-16T15:26:49.555000"
    },
    "collapsed": true
   },
   "outputs": [],
   "source": [
    "\n",
    "def showarray(a, fmt='jpeg'):\n",
    "    a = np.uint8(np.clip(a, 0, 255))\n",
    "    f = StringIO()\n",
    "    PIL.Image.fromarray(a).save(f, fmt)\n",
    "    display(Image(data=f.getvalue()))"
   ]
  },
  {
   "cell_type": "code",
   "execution_count": 8,
   "metadata": {
    "ExecuteTime": {
     "end_time": "2016-11-16T15:26:49.622000",
     "start_time": "2016-11-16T15:26:49.589000"
    },
    "collapsed": false
   },
   "outputs": [
    {
     "data": {
      "image/jpeg": "[encoded data removed]",
      "text/plain": [
       "<IPython.core.display.Image object>"
      ]
     },
     "metadata": {},
     "output_type": "display_data"
    },
    {
     "name": "stdout",
     "output_type": "stream",
     "text": [
      "36\n",
      "36\n",
      "[[ 0.20703125  0.30078125  0.3046875  ...,  0.3359375   0.78125     0.9609375 ]\n",
      " [ 0.21875     0.34765625  0.36328125 ...,  0.3671875   0.7734375   0.96875   ]\n",
      " [ 0.24609375  0.41015625  0.44140625 ...,  0.3515625   0.703125    0.9609375 ]\n",
      " ..., \n",
      " [ 0.22265625  0.3515625   0.640625   ...,  0.296875    0.4765625\n",
      "   0.61328125]\n",
      " [ 0.24609375  0.3671875   0.65234375 ...,  0.1953125   0.22265625\n",
      "   0.2109375 ]\n",
      " [ 0.26171875  0.37109375  0.640625   ...,  0.2421875   0.2421875\n",
      "   0.23046875]]\n",
      "{'prob': array([[  7.51063228e-04,   9.99248922e-01]], dtype=float32)}\n"
     ]
    }
   ],
   "source": [
    "#im = np.array(PIL.Image.open('train_images/0/137021_102_88_72_72.pgm'))/256.0\n",
    "im = np.array(PIL.Image.open('train_images/1/image000619.pgm'))/256.0\n",
    "im_input = im[np.newaxis, np.newaxis, :, :]\n",
    "net.blobs['data'].reshape(*im_input.shape)\n",
    "net.blobs['data'].data[...] = im\n",
    "showarray(im)\n",
    "print (len(im))\n",
    "print (len(im[0]))\n",
    "print (im)\n",
    "output = net.forward()\n",
    "print(output)\n",
    "if output['prob'][0][0] >0.9:\n",
    "    print \"visage\""
   ]
  },
  {
   "cell_type": "markdown",
   "metadata": {
    "ExecuteTime": {
     "end_time": "2016-11-08T08:49:34.007000",
     "start_time": "2016-11-08T08:49:34.001000"
    },
    "collapsed": false
   },
   "source": [
    "The cell bellows checks that opencv and its python bindings are properly installed"
   ]
  },
  {
   "cell_type": "code",
   "execution_count": 9,
   "metadata": {
    "ExecuteTime": {
     "end_time": "2016-11-16T15:26:50.524000",
     "start_time": "2016-11-16T15:26:50.519000"
    },
    "collapsed": false
   },
   "outputs": [
    {
     "name": "stdout",
     "output_type": "stream",
     "text": [
      "2.4.13\n"
     ]
    }
   ],
   "source": [
    "print cv2.__version__"
   ]
  },
  {
   "cell_type": "markdown",
   "metadata": {},
   "source": [
    "## Face detection in image\n",
    "\n",
    "This block performs the actual processing of an image (specified in the code btw), and checks for faces in it\n"
   ]
  },
  {
   "cell_type": "code",
   "execution_count": null,
   "metadata": {
    "ExecuteTime": {
     "start_time": "2016-11-16T15:03:37.413Z"
    },
    "collapsed": false
   },
   "outputs": [
    {
     "name": "stdout",
     "output_type": "stream",
     "text": [
      "starting processing\n",
      "(919, 440)\n"
     ]
    }
   ],
   "source": [
    "def process_chunk(chunk):\n",
    "    im_input = chunk[np.newaxis, np.newaxis, :, :]\n",
    "    net.blobs['data'].reshape(*im_input.shape)\n",
    "    net.blobs['data'].data[...] = imtmp\n",
    "    return net.forward()['prob'][0][1]\n",
    "\n",
    "def get_face_prob(chunk):\n",
    "    return process_chunk(chunk)\n",
    "\n",
    "def add_outline(img, i, j, scale, confidence):\n",
    "    color = (255,255,255)\n",
    "    if confidence > 0.99:\n",
    "        color = (0,255,0)\n",
    "    elif confidence >0.98:\n",
    "        color = (255,255,0)\n",
    "    else:\n",
    "        color  =(255,0,0)\n",
    "    for x in range (int(i*scale), int((i+36)*scale)):\n",
    "        img[x][int(j*scale)]=color\n",
    "        img[x][int((j+36)*scale-1)]=color\n",
    "    for y in range(int(j*scale), int((j+36)*scale)):\n",
    "        img[int(i*scale)][y]=color\n",
    "        img[int((i+36)*scale-1)][y]=color\n",
    "    return img\n",
    "\n",
    "img =  PIL.Image.open('test_vis4.jpg')\n",
    "w, h = img.size\n",
    "img = img.resize((int(w/4),int(h/4)), PIL.Image.NEAREST)\n",
    "imbase = img\n",
    "img = img.convert('L')\n",
    "w, h = img.size\n",
    "scale = 1\n",
    "print \"starting processing\"\n",
    "while w >=36*2 and h >36*2:\n",
    "    img = img.resize((int(w/1.3),int(h/1.3)), PIL.Image.NEAREST)\n",
    "    w, h = img.size\n",
    "    print img.size\n",
    "    im = np.array(img)\n",
    "    scale*=1.3\n",
    "    found_pairs = []\n",
    "    i = 0\n",
    "    j = 0\n",
    "    last_result = 0\n",
    "    while i < int(h-36):\n",
    "        while j < int(w-36):\n",
    "            imtmp = np.array(im [i:i+36, j:j+36]/256.0)\n",
    "            face_prob = get_face_prob(imtmp)\n",
    "            if  face_prob > 0.5:\n",
    "                while j < int(w-36) and face_prob > last_result:\n",
    "                    imtmp = np.array(im [i:i+36, j:j+36]/256.0)\n",
    "                    last_result = face_prob\n",
    "                    face_prob = get_face_prob(imtmp)\n",
    "                    j += 1\n",
    "                if last_result > 0.95:\n",
    "                    matched = False\n",
    "                    \"\"\"print last_result\n",
    "                    print \"visage trouvé @ %i , %i\"%(i, j)\n",
    "                    showarray(imtmp*255)\"\"\"\n",
    "                    for pair in found_pairs[:]: # copy the list to remove while working in it\n",
    "                        if (abs(pair[0] - i) + abs(pair[1] - j)) < 20 :\n",
    "                            matched = True\n",
    "                            if pair[2] < last_result:\n",
    "                                found_pairs.remove(pair)\n",
    "                                found_pairs.append((i, j, last_result))\n",
    "                    if not matched:\n",
    "                        found_pairs.append((i, j, last_result))\n",
    "                    j+=36\n",
    "                last_result = 0\n",
    "                \n",
    "            j+=4\n",
    "        i+=4\n",
    "        j = 0\n",
    "    print \"adding overlay\"\n",
    "    for pair in found_pairs:\n",
    "        imbase = add_outline(np.array(imbase),pair[0],pair[1],scale, pair[2])\n",
    "showarray(imbase)"
   ]
  },
  {
   "cell_type": "code",
   "execution_count": 25,
   "metadata": {
    "ExecuteTime": {
     "end_time": "2016-11-16T14:26:43.729000",
     "start_time": "2016-11-16T14:26:43.724000"
    },
    "collapsed": false
   },
   "outputs": [
    {
     "name": "stdout",
     "output_type": "stream",
     "text": [
      "3\n"
     ]
    }
   ],
   "source": [
    "print a\n"
   ]
  },
  {
   "cell_type": "code",
   "execution_count": 48,
   "metadata": {
    "ExecuteTime": {
     "end_time": "2016-11-16T14:49:42.706000",
     "start_time": "2016-11-16T14:49:42.476000"
    },
    "collapsed": false
   },
   "outputs": [
    {
     "name": "stdout",
     "output_type": "stream",
     "text": [
      "4782\n"
     ]
    }
   ],
   "source": [
    "img = PIL.Image.open('test_vis4.jpg').convert('LA')\n",
    "arr = np.array(img)\n",
    "w, h = img.size\n",
    "print w"
   ]
  },
  {
   "cell_type": "code",
   "execution_count": 40,
   "metadata": {
    "ExecuteTime": {
     "end_time": "2016-11-16T14:47:17.920000",
     "start_time": "2016-11-16T14:47:17.914000"
    },
    "collapsed": false
   },
   "outputs": [
    {
     "data": {
      "text/plain": [
       "3"
      ]
     },
     "execution_count": 40,
     "metadata": {},
     "output_type": "execute_result"
    }
   ],
   "source": [
    "a"
   ]
  },
  {
   "cell_type": "code",
   "execution_count": null,
   "metadata": {
    "collapsed": true
   },
   "outputs": [],
   "source": []
  }
 ],
 "metadata": {
  "anaconda-cloud": {},
  "kernelspec": {
   "display_name": "Python 2",
   "language": "python",
   "name": "python2"
  },
  "language_info": {
   "codemirror_mode": {
    "name": "ipython",
    "version": 2
   },
   "file_extension": ".py",
   "mimetype": "text/x-python",
   "name": "python",
   "nbconvert_exporter": "python",
   "pygments_lexer": "ipython2",
   "version": "2.7.12"
  },
  "nav_menu": {},
  "toc": {
   "navigate_menu": true,
   "number_sections": true,
   "sideBar": true,
   "threshold": 6,
   "toc_cell": false,
   "toc_section_display": "block",
   "toc_window_display": false
  }
 },
 "nbformat": 4,
 "nbformat_minor": 0
}
