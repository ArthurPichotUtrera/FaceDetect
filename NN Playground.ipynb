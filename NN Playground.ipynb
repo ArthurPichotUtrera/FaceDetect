{
 "cells": [
  {
   "cell_type": "markdown",
   "metadata": {},
   "source": [
    "# Neural network \"playground\"\n",
    "\n",
    "## imports"
   ]
  },
  {
   "cell_type": "code",
   "execution_count": 1,
   "metadata": {
    "ExecuteTime": {
     "end_time": "2016-11-08T08:08:00.366000",
     "start_time": "2016-11-08T08:07:52.895000"
    },
    "collapsed": false
   },
   "outputs": [],
   "source": [
    "import numpy as np\n",
    "from cStringIO import StringIO\n",
    "import matplotlib.pyplot as plt\n",
    "import caffe\n",
    "from IPython.display import clear_output, Image, display\n",
    "import cv2\n",
    "import PIL.Image\n",
    "import os"
   ]
  },
  {
   "cell_type": "code",
   "execution_count": 2,
   "metadata": {
    "ExecuteTime": {
     "end_time": "2016-11-08T08:08:00.385000",
     "start_time": "2016-11-08T08:08:00.382000"
    },
    "collapsed": true
   },
   "outputs": [],
   "source": [
    "os.chdir(\"start_deep/\")"
   ]
  },
  {
   "cell_type": "markdown",
   "metadata": {},
   "source": [
    "## Caffe computation mode"
   ]
  },
  {
   "cell_type": "markdown",
   "metadata": {},
   "source": [
    "### CPU"
   ]
  },
  {
   "cell_type": "code",
   "execution_count": 3,
   "metadata": {
    "ExecuteTime": {
     "end_time": "2016-11-08T08:08:01.442000",
     "start_time": "2016-11-08T08:08:00.387000"
    },
    "collapsed": true
   },
   "outputs": [],
   "source": [
    "caffe.set_mode_cpu()"
   ]
  },
  {
   "cell_type": "markdown",
   "metadata": {},
   "source": [
    "### GPU\n",
    "\n",
    "Make sure you enabled GPU suppor, and have a compatible (ie. nvidia) GPU"
   ]
  },
  {
   "cell_type": "code",
   "execution_count": 5,
   "metadata": {
    "ExecuteTime": {
     "end_time": "2016-11-02T10:40:08.044000",
     "start_time": "2016-11-02T10:40:08.024000"
    },
    "collapsed": true
   },
   "outputs": [],
   "source": [
    "caffe.set_device(0)\n",
    "caffe.set_mode_gpu()"
   ]
  },
  {
   "cell_type": "code",
   "execution_count": 4,
   "metadata": {
    "ExecuteTime": {
     "end_time": "2016-11-08T08:08:04.479000",
     "start_time": "2016-11-08T08:08:03.772000"
    },
    "collapsed": true
   },
   "outputs": [],
   "source": [
    "net = caffe.Net('deploy.prototxt', \"facenet01.caffemodel\", caffe.TEST)\n",
    "#solver = caffe.SGDSolver('facenet_solver.prototxt')\n",
    "#test_net = solver.testnets[0]"
   ]
  },
  {
   "cell_type": "code",
   "execution_count": 16,
   "metadata": {
    "ExecuteTime": {
     "end_time": "2016-11-08T08:10:07.518000",
     "start_time": "2016-11-08T08:10:07.512000"
    },
    "collapsed": true
   },
   "outputs": [],
   "source": [
    "\n",
    "def showarray(a, fmt='jpeg'):\n",
    "    a = np.uint8(np.clip(a, 0, 255))\n",
    "    f = StringIO()\n",
    "    PIL.Image.fromarray(a).save(f, fmt)\n",
    "    display(Image(data=f.getvalue()))"
   ]
  },
  {
   "cell_type": "code",
   "execution_count": 19,
   "metadata": {
    "ExecuteTime": {
     "end_time": "2016-11-08T08:11:31.496000",
     "start_time": "2016-11-08T08:11:31.484000"
    },
    "collapsed": false
   },
   "outputs": [
    {
     "data": {
      "image/jpeg": "[encoded data removed]",
      "text/plain": [
       "<IPython.core.display.Image object>"
      ]
     },
     "metadata": {},
     "output_type": "display_data"
    },
    {
     "name": "stdout",
     "output_type": "stream",
     "text": [
      "36\n",
      "36\n"
     ]
    }
   ],
   "source": [
    "#im = np.array(PIL.Image.open('train_images/0/137021_102_88_72_72.pgm'))\n",
    "im = np.array(PIL.Image.open('train_images/1/image000617.pgm'))\n",
    "im_input = im[np.newaxis, np.newaxis, :, :]\n",
    "net.blobs['data'].reshape(*im_input.shape)\n",
    "net.blobs['data'].data[...] = im\n",
    "showarray(im)\n",
    "print (len(im))\n",
    "print (len(im[0]))"
   ]
  },
  {
   "cell_type": "code",
   "execution_count": 12,
   "metadata": {
    "ExecuteTime": {
     "end_time": "2016-11-08T08:09:08.037000",
     "start_time": "2016-11-08T08:09:08.033000"
    },
    "collapsed": false
   },
   "outputs": [],
   "source": [
    "output = net.forward()\n",
    "if output['prob'][0][0] >0.9:\n",
    "    print \"visage\""
   ]
  },
  {
   "cell_type": "code",
   "execution_count": 14,
   "metadata": {
    "ExecuteTime": {
     "end_time": "2016-11-08T08:09:17.491000",
     "start_time": "2016-11-08T08:09:17.486000"
    },
    "collapsed": false
   },
   "outputs": [
    {
     "name": "stdout",
     "output_type": "stream",
     "text": [
      "2.4.13\n"
     ]
    }
   ],
   "source": [
    "print cv2.__version__"
   ]
  },
  {
   "cell_type": "code",
   "execution_count": 15,
   "metadata": {
    "ExecuteTime": {
     "end_time": "2016-11-08T08:09:19.207000",
     "start_time": "2016-11-08T08:09:19.147000"
    },
    "collapsed": false
   },
   "outputs": [],
   "source": [
    "img = cv2.imread('test_vis.jpg')"
   ]
  },
  {
   "cell_type": "code",
   "execution_count": 12,
   "metadata": {
    "ExecuteTime": {
     "end_time": "2016-11-02T10:40:08.491000",
     "start_time": "2016-11-02T10:40:08.480000"
    },
    "collapsed": true
   },
   "outputs": [],
   "source": [
    "lower_res = cv2.pyrDown(img)\n",
    "even_lower_res = cv2.pyrDown(lower_res)\n",
    "tiny_res = cv2.pyrDown(even_lower_res)\n",
    "ridiculous_res = cv2.pyrDown(tiny_res)\n",
    "we_need_to_go_deeper = cv2.pyrDown(ridiculous_res)"
   ]
  },
  {
   "cell_type": "code",
   "execution_count": 13,
   "metadata": {
    "ExecuteTime": {
     "end_time": "2016-11-02T10:40:09.011000",
     "start_time": "2016-11-02T10:40:08.494000"
    },
    "collapsed": false
   },
   "outputs": [
    {
     "data": {
      "image/png": "[encoded data removed]",
      "text/plain": [
       "<matplotlib.figure.Figure at 0x1a94c6a0>"
      ]
     },
     "metadata": {},
     "output_type": "display_data"
    }
   ],
   "source": [
    "plt.axis(\"off\")\n",
    "plt.imshow(cv2.cvtColor(img, cv2.COLOR_BGR2GRAY))\n",
    "plt.show()"
   ]
  },
  {
   "cell_type": "code",
   "execution_count": 20,
   "metadata": {
    "ExecuteTime": {
     "end_time": "2016-11-08T08:14:07.687000",
     "start_time": "2016-11-08T08:14:06.942000"
    },
    "collapsed": false
   },
   "outputs": [
    {
     "name": "stdout",
     "output_type": "stream",
     "text": [
      "152\n"
     ]
    },
    {
     "data": {
      "image/jpeg": "[encoded data removed]",
      "text/plain": [
       "<IPython.core.display.Image object>"
      ]
     },
     "metadata": {},
     "output_type": "display_data"
    },
    {
     "name": "stdout",
     "output_type": "stream",
     "text": [
      "[[247 245 236 ..., 148 173 172]\n",
      " [246 246 240 ..., 124 151 175]\n",
      " [246 246 244 ..., 128 138 162]\n",
      " ..., \n",
      " [240 235 238 ..., 209 203 202]\n",
      " [242 240 232 ..., 200 204 202]\n",
      " [241 241 240 ..., 198 204 198]]\n",
      "36\n",
      "36\n",
      "{'prob': array([[ 0.99806184,  0.00193811]], dtype=float32)}\n",
      "visage trouvé @ 0 , 0\n"
     ]
    },
    {
     "data": {
      "image/jpeg": "[encoded data removed]",
      "text/plain": [
       "<IPython.core.display.Image object>"
      ]
     },
     "metadata": {},
     "output_type": "display_data"
    },
    {
     "name": "stdout",
     "output_type": "stream",
     "text": [
      "[[208 169 156 ..., 194 191 180]\n",
      " [224 193 162 ..., 188 189 184]\n",
      " [235 227 201 ..., 196 192 194]\n",
      " ..., \n",
      " [244 230 200 ...,  52  60  56]\n",
      " [248 247 241 ...,  44  55  60]\n",
      " [248 248 248 ...,  44  53  59]]\n",
      "36\n",
      "36\n",
      "{'prob': array([[ 0.99818486,  0.00181509]], dtype=float32)}\n",
      "visage trouvé @ 0 , 12\n"
     ]
    },
    {
     "data": {
      "image/jpeg": "[encoded data removed]",
      "text/plain": [
       "<IPython.core.display.Image object>"
      ]
     },
     "metadata": {},
     "output_type": "display_data"
    },
    {
     "name": "stdout",
     "output_type": "stream",
     "text": [
      "[[182 182 185 ...,  56  50  54]\n",
      " [182 174 171 ...,  68  67  93]\n",
      " [179 161 162 ..., 102 103 146]\n",
      " ..., \n",
      " [202 231 242 ...,  37  36  28]\n",
      " [139 170 212 ...,  36  32  29]\n",
      " [110 106 131 ...,  41  38  43]]\n",
      "36\n",
      "36\n",
      "{'prob': array([[ 0.99827456,  0.0017254 ]], dtype=float32)}\n",
      "visage trouvé @ 0 , 24\n"
     ]
    },
    {
     "data": {
      "image/jpeg": "[encoded data removed]",
      "text/plain": [
       "<IPython.core.display.Image object>"
      ]
     },
     "metadata": {},
     "output_type": "display_data"
    },
    {
     "name": "stdout",
     "output_type": "stream",
     "text": [
      "[[150 121 100 ..., 215 207 189]\n",
      " [175 153 131 ..., 219 194 175]\n",
      " [178 179 173 ..., 210 175 150]\n",
      " ..., \n",
      " [197 180 145 ...,  26  26  22]\n",
      " [173 112  79 ...,  27  30  28]\n",
      " [149  70  55 ...,  70  81  81]]\n",
      "36\n",
      "36\n",
      "{'prob': array([[ 0.99617082,  0.00382914]], dtype=float32)}\n",
      "visage trouvé @ 0 , 36\n"
     ]
    },
    {
     "data": {
      "image/jpeg": "[encoded data removed]",
      "text/plain": [
       "<IPython.core.display.Image object>"
      ]
     },
     "metadata": {},
     "output_type": "display_data"
    },
    {
     "name": "stdout",
     "output_type": "stream",
     "text": [
      "[[182 179 143 ..., 132 124 147]\n",
      " [184 185 168 ..., 140 127 148]\n",
      " [205 202 197 ..., 158 144 147]\n",
      " ..., \n",
      " [ 55  52  44 ...,  25  29  28]\n",
      " [ 57  54  45 ...,  61  74  62]\n",
      " [ 59  54  47 ..., 101 108 100]]\n",
      "36\n",
      "36\n",
      "{'prob': array([[ 0.99506289,  0.00493713]], dtype=float32)}\n",
      "visage trouvé @ 0 , 48\n"
     ]
    },
    {
     "data": {
      "image/jpeg": "[encoded data removed]",
      "text/plain": [
       "<IPython.core.display.Image object>"
      ]
     },
     "metadata": {},
     "output_type": "display_data"
    },
    {
     "name": "stdout",
     "output_type": "stream",
     "text": [
      "[[ 64  84 117 ..., 163 165 167]\n",
      " [107 115 134 ..., 157 166 172]\n",
      " [145 130 154 ..., 156 168 176]\n",
      " ..., \n",
      " [ 27  25  21 ...,  25  21  22]\n",
      " [ 32  32  32 ...,  82  85  88]\n",
      " [ 46  43  48 ..., 103 122 154]]\n",
      "36\n",
      "36\n",
      "{'prob': array([[ 0.99623007,  0.00376991]], dtype=float32)}\n",
      "visage trouvé @ 0 , 60\n"
     ]
    },
    {
     "data": {
      "image/jpeg": "[encoded data removed]",
      "text/plain": [
       "<IPython.core.display.Image object>"
      ]
     },
     "metadata": {},
     "output_type": "display_data"
    },
    {
     "name": "stdout",
     "output_type": "stream",
     "text": [
      "[[188 152 117 ..., 168 160 155]\n",
      " [171 144 123 ..., 181 177 168]\n",
      " [145 133 125 ..., 184 168 169]\n",
      " ..., \n",
      " [ 24  21  18 ...,  91  95  82]\n",
      " [ 30  30  26 ...,  87  85  85]\n",
      " [ 77  83  81 ...,  19  16  26]]\n",
      "36\n",
      "36\n",
      "{'prob': array([[ 0.99770617,  0.00229383]], dtype=float32)}\n",
      "visage trouvé @ 0 , 72\n"
     ]
    },
    {
     "data": {
      "image/jpeg": "[encoded data removed]",
      "text/plain": [
       "<IPython.core.display.Image object>"
      ]
     },
     "metadata": {},
     "output_type": "display_data"
    },
    {
     "name": "stdout",
     "output_type": "stream",
     "text": [
      "[[168 171 160 ..., 154 156 170]\n",
      " [167 168 161 ..., 158 150 166]\n",
      " [155 152 150 ..., 185 173 174]\n",
      " ..., \n",
      " [ 26  24  23 ...,  77  72 110]\n",
      " [ 57  49  50 ..., 107 109 127]\n",
      " [104  99 109 ...,  85 109 122]]\n",
      "36\n",
      "36\n",
      "{'prob': array([[ 0.99850959,  0.00149037]], dtype=float32)}\n",
      "visage trouvé @ 0 , 84\n"
     ]
    },
    {
     "data": {
      "image/jpeg": "[encoded data removed]",
      "text/plain": [
       "<IPython.core.display.Image object>"
      ]
     },
     "metadata": {},
     "output_type": "display_data"
    },
    {
     "name": "stdout",
     "output_type": "stream",
     "text": [
      "[[177 196 206 ..., 191 181 173]\n",
      " [183 194 199 ..., 180 173 174]\n",
      " [189 196 196 ..., 175 173 183]\n",
      " ..., \n",
      " [ 25  23  32 ..., 124 121 111]\n",
      " [ 78  68  73 ..., 138 125 134]\n",
      " [137 124 130 ..., 155 143 166]]\n",
      "36\n",
      "36\n",
      "{'prob': array([[ 0.99708444,  0.00291555]], dtype=float32)}\n",
      "visage trouvé @ 0 , 96\n"
     ]
    },
    {
     "data": {
      "image/jpeg": "[encoded data removed]",
      "text/plain": [
       "<IPython.core.display.Image object>"
      ]
     },
     "metadata": {},
     "output_type": "display_data"
    },
    {
     "name": "stdout",
     "output_type": "stream",
     "text": [
      "[[149 156 163 ..., 166 176 180]\n",
      " [151 141 151 ..., 181 192 189]\n",
      " [166 152 168 ..., 186 199 195]\n",
      " ..., \n",
      " [ 98 101  94 ..., 164 197 204]\n",
      " [109 136 128 ..., 168 187 179]\n",
      " [ 46  61  60 ..., 169 178 166]]\n",
      "36\n",
      "36\n",
      "{'prob': array([[ 0.99752396,  0.00247601]], dtype=float32)}\n",
      "visage trouvé @ 0 , 108\n"
     ]
    },
    {
     "data": {
      "image/jpeg": "[encoded data removed]",
      "text/plain": [
       "<IPython.core.display.Image object>"
      ]
     },
     "metadata": {},
     "output_type": "display_data"
    },
    {
     "name": "stdout",
     "output_type": "stream",
     "text": [
      "[[160 143 145 ..., 182 170 171]\n",
      " [154 139 147 ..., 186 181 179]\n",
      " [165 158 168 ..., 193 188 180]\n",
      " ..., \n",
      " [110 161 170 ..., 186 175 170]\n",
      " [104 128 176 ..., 196 164 158]\n",
      " [105 113 176 ..., 194 165 152]]\n",
      "36\n",
      "36\n",
      "{'prob': array([[ 0.99773288,  0.0022671 ]], dtype=float32)}\n",
      "visage trouvé @ 0 , 120\n"
     ]
    },
    {
     "data": {
      "image/jpeg": "[encoded data removed]",
      "text/plain": [
       "<IPython.core.display.Image object>"
      ]
     },
     "metadata": {},
     "output_type": "display_data"
    },
    {
     "name": "stdout",
     "output_type": "stream",
     "text": [
      "[[188 188 178 ..., 139 169 172]\n",
      " [188 191 183 ..., 152 166 165]\n",
      " [195 198 188 ..., 188 183 173]\n",
      " ..., \n",
      " [122 147 158 ..., 197 202 190]\n",
      " [146 168 172 ..., 178 181 183]\n",
      " [170 175 175 ..., 160 169 182]]\n",
      "36\n",
      "36\n",
      "{'prob': array([[ 0.99684972,  0.00315027]], dtype=float32)}\n",
      "visage trouvé @ 0 , 132\n"
     ]
    },
    {
     "data": {
      "image/jpeg": "[encoded data removed]",
      "text/plain": [
       "<IPython.core.display.Image object>"
      ]
     },
     "metadata": {},
     "output_type": "display_data"
    },
    {
     "name": "stdout",
     "output_type": "stream",
     "text": [
      "[[181 182 179 ..., 164 153 153]\n",
      " [181 176 185 ..., 176 160 157]\n",
      " [180 173 190 ..., 191 180 171]\n",
      " ..., \n",
      " [173 170 185 ..., 167 171 183]\n",
      " [167 162 162 ..., 169 166 183]\n",
      " [169 178 161 ..., 183 181 174]]\n",
      "36\n",
      "36\n",
      "{'prob': array([[ 0.99706995,  0.00292999]], dtype=float32)}\n",
      "visage trouvé @ 0 , 144\n"
     ]
    },
    {
     "data": {
      "image/jpeg": "[encoded data removed]",
      "text/plain": [
       "<IPython.core.display.Image object>"
      ]
     },
     "metadata": {},
     "output_type": "display_data"
    },
    {
     "name": "stdout",
     "output_type": "stream",
     "text": [
      "[[178 184 176 ..., 179 188 191]\n",
      " [180 190 180 ..., 180 183 186]\n",
      " [170 183 179 ..., 176 173 179]\n",
      " ..., \n",
      " [177 192 193 ..., 218 235 232]\n",
      " [170 189 197 ..., 226 230 214]\n",
      " [167 182 190 ..., 219 225 210]]\n",
      "36\n",
      "36\n",
      "{'prob': array([[ 0.99772602,  0.00227397]], dtype=float32)}\n",
      "visage trouvé @ 0 , 156\n"
     ]
    },
    {
     "data": {
      "image/jpeg": "[encoded data removed]",
      "text/plain": [
       "<IPython.core.display.Image object>"
      ]
     },
     "metadata": {},
     "output_type": "display_data"
    },
    {
     "name": "stdout",
     "output_type": "stream",
     "text": [
      "[[172 177 179 ..., 135 148 165]\n",
      " [168 175 179 ..., 131 146 147]\n",
      " [175 182 173 ..., 127 125 106]\n",
      " ..., \n",
      " [195 197 204 ..., 197 204 216]\n",
      " [199 197 197 ..., 195 198 207]\n",
      " [189 191 198 ..., 207 218 220]]\n",
      "36\n",
      "36\n",
      "{'prob': array([[ 0.99778134,  0.00221867]], dtype=float32)}\n",
      "visage trouvé @ 0 , 168\n"
     ]
    },
    {
     "data": {
      "image/jpeg": "[encoded data removed]",
      "text/plain": [
       "<IPython.core.display.Image object>"
      ]
     },
     "metadata": {},
     "output_type": "display_data"
    },
    {
     "name": "stdout",
     "output_type": "stream",
     "text": [
      "[[148 139 133 ...,  99 120 143]\n",
      " [151 139 147 ..., 118 130 141]\n",
      " [166 151 161 ..., 145 150 147]\n",
      " ..., \n",
      " [175 164 166 ..., 185 172 160]\n",
      " [176 164 164 ..., 176 162 174]\n",
      " [166 160 162 ..., 171 160 166]]\n",
      "36\n",
      "36\n",
      "{'prob': array([[ 0.99754333,  0.00245668]], dtype=float32)}\n",
      "visage trouvé @ 0 , 180\n"
     ]
    },
    {
     "data": {
      "image/jpeg": "[encoded data removed]",
      "text/plain": [
       "<IPython.core.display.Image object>"
      ]
     },
     "metadata": {},
     "output_type": "display_data"
    },
    {
     "name": "stdout",
     "output_type": "stream",
     "text": [
      "[[238 234 232 ..., 163 148 150]\n",
      " [232 235 230 ..., 165 160 173]\n",
      " [232 234 234 ..., 150 141 160]\n",
      " ..., \n",
      " [245 245 241 ...,  49  36  34]\n",
      " [241 244 245 ...,  42  34  33]\n",
      " [240 242 244 ...,  39  32  31]]\n",
      "36\n",
      "36\n",
      "{'prob': array([[ 0.99692279,  0.00307715]], dtype=float32)}\n",
      "visage trouvé @ 12 , 0\n"
     ]
    },
    {
     "data": {
      "image/jpeg": "[encoded data removed]",
      "text/plain": [
       "<IPython.core.display.Image object>"
      ]
     },
     "metadata": {},
     "output_type": "display_data"
    },
    {
     "name": "stdout",
     "output_type": "stream",
     "text": [
      "[[235 243 241 ..., 185 196 199]\n",
      " [238 235 244 ..., 190 190 198]\n",
      " [241 236 239 ..., 189 183 191]\n",
      " ..., \n",
      " [249 248 248 ...,  56  52  43]\n",
      " [248 248 248 ...,  49  42  37]\n",
      " [243 247 246 ...,  35  34  37]]\n",
      "36\n",
      "36\n",
      "{'prob': array([[ 0.99639672,  0.00360336]], dtype=float32)}\n",
      "visage trouvé @ 12 , 12\n"
     ]
    },
    {
     "data": {
      "image/jpeg": "[encoded data removed]",
      "text/plain": [
       "<IPython.core.display.Image object>"
      ]
     },
     "metadata": {},
     "output_type": "display_data"
    },
    {
     "name": "stdout",
     "output_type": "stream",
     "text": [
      "[[242 232 209 ..., 166 176 180]\n",
      " [242 240 236 ..., 166 179 180]\n",
      " [242 241 240 ..., 174 173 175]\n",
      " ..., \n",
      " [153 161 165 ...,  19  13  12]\n",
      " [146 162 166 ...,  15  10  10]\n",
      " [145 159 162 ...,  11   8   9]]\n",
      "36\n",
      "36\n",
      "{'prob': array([[ 0.99664402,  0.00335601]], dtype=float32)}\n",
      "visage trouvé @ 12 , 24\n"
     ]
    },
    {
     "data": {
      "image/jpeg": "[encoded data removed]",
      "text/plain": [
       "<IPython.core.display.Image object>"
      ]
     },
     "metadata": {},
     "output_type": "display_data"
    },
    {
     "name": "stdout",
     "output_type": "stream",
     "text": [
      "[[166 176 187 ..., 139 132 137]\n",
      " [175 171 178 ..., 142 126 109]\n",
      " [178 178 169 ..., 134 134 106]\n",
      " ..., \n",
      " [ 30  27  27 ...,  19  16  15]\n",
      " [ 30  27  26 ...,  18  18  18]\n",
      " [ 28  26  25 ...,  16  16  18]]\n",
      "36\n",
      "36\n",
      "[[203 207 203 ..., 114 111 121]\n",
      " [210 211 210 ...,  70  53  63]\n",
      " [205 199 201 ...,  38  32  30]\n",
      " ..., \n",
      " [ 43  36  27 ...,  18  15  12]\n",
      " [ 38  37  30 ...,  15  15  14]\n",
      " [ 33  28  27 ...,  15  16  19]]\n",
      "36\n",
      "36\n",
      "[[170 152 163 ...,  64  90 123]\n",
      " [172 154 150 ...,  27  36  49]\n",
      " [177 155 127 ...,  29  33  37]\n",
      " ..., \n",
      " [ 13  13  13 ...,  10  11  10]\n",
      " [ 11  13  14 ...,  12  13  13]\n",
      " [  9  11  14 ...,  13  13  13]]\n",
      "36\n",
      "36\n",
      "[[134 128 129 ...,  38  28  37]\n",
      " [ 96 110 111 ...,  27  29  35]\n",
      " [ 88 104 103 ...,  42  49  54]\n",
      " ..., \n",
      " [ 15  18  18 ...,  18  25  31]\n",
      " [ 20  21  19 ...,  17  24  32]\n",
      " [ 20  21  19 ...,  35  49  49]]\n",
      "36\n",
      "36\n",
      "[[124 127 130 ...,  34  38  67]\n",
      " [ 89  92  92 ...,  43  50  76]\n",
      " [ 36  38  41 ...,  83 101 111]\n",
      " ..., \n",
      " [ 11  14  19 ...,  59  96 101]\n",
      " [ 12  14  17 ...,  56  90  99]\n",
      " [ 17  16  19 ...,  59  82  96]]\n",
      "36\n",
      "36\n",
      "{'prob': array([[ 0.9935028 ,  0.00649718]], dtype=float32)}\n",
      "visage trouvé @ 12 , 84\n"
     ]
    },
    {
     "data": {
      "image/jpeg": "[encoded data removed]",
      "text/plain": [
       "<IPython.core.display.Image object>"
      ]
     },
     "metadata": {},
     "output_type": "display_data"
    },
    {
     "name": "stdout",
     "output_type": "stream",
     "text": [
      "[[135 145 109 ..., 152 149 158]\n",
      " [ 54  69  45 ..., 165 145 147]\n",
      " [ 37  43  33 ..., 171 161 156]\n",
      " ..., \n",
      " [  8  11  17 ..., 188 185 180]\n",
      " [ 10  12  15 ..., 192 191 185]\n",
      " [ 12  14  24 ..., 195 196 199]]\n",
      "36\n",
      "36\n",
      "{'prob': array([[ 0.99844176,  0.00155828]], dtype=float32)}\n",
      "visage trouvé @ 12 , 96\n"
     ]
    },
    {
     "data": {
      "image/jpeg": "[encoded data removed]",
      "text/plain": [
       "<IPython.core.display.Image object>"
      ]
     },
     "metadata": {},
     "output_type": "display_data"
    },
    {
     "name": "stdout",
     "output_type": "stream",
     "text": [
      "[[ 51  46  51 ..., 140 140 150]\n",
      " [ 45  41  37 ..., 148 141 137]\n",
      " [ 54  65  76 ..., 159 156 143]\n",
      " ..., \n",
      " [ 42  46  39 ..., 175 187 191]\n",
      " [ 45  51  45 ..., 174 186 190]\n",
      " [ 60  67  65 ..., 172 188 192]]\n",
      "36\n",
      "36\n",
      "{'prob': array([[ 0.99772757,  0.00227243]], dtype=float32)}\n",
      "visage trouvé @ 12 , 108\n"
     ]
    },
    {
     "data": {
      "image/jpeg": "[encoded data removed]",
      "text/plain": [
       "<IPython.core.display.Image object>"
      ]
     },
     "metadata": {},
     "output_type": "display_data"
    },
    {
     "name": "stdout",
     "output_type": "stream",
     "text": [
      "[[104 110  95 ..., 134 134 160]\n",
      " [ 98  95  99 ..., 161 143 142]\n",
      " [108  91  97 ..., 142 122 112]\n",
      " ..., \n",
      " [143  91  64 ..., 153 154 173]\n",
      " [140 109  69 ..., 147 151 162]\n",
      " [133 120  72 ..., 139 126 137]]\n",
      "36\n",
      "36\n",
      "{'prob': array([[ 0.99629229,  0.00370762]], dtype=float32)}\n",
      "visage trouvé @ 12 , 120\n"
     ]
    },
    {
     "data": {
      "image/jpeg": "[encoded data removed]",
      "text/plain": [
       "<IPython.core.display.Image object>"
      ]
     },
     "metadata": {},
     "output_type": "display_data"
    },
    {
     "name": "stdout",
     "output_type": "stream",
     "text": [
      "[[156 134 119 ..., 152 144 142]\n",
      " [149 140 128 ..., 115 122 144]\n",
      " [157 152 134 ..., 105 135 167]\n",
      " ..., \n",
      " [179 175 169 ..., 163 153 155]\n",
      " [182 179 163 ..., 163 160 168]\n",
      " [198 189 163 ..., 162 160 159]]\n",
      "36\n",
      "36\n",
      "{'prob': array([[ 0.99634129,  0.0036587 ]], dtype=float32)}\n",
      "visage trouvé @ 12 , 132\n"
     ]
    },
    {
     "data": {
      "image/jpeg": "[encoded data removed]",
      "text/plain": [
       "<IPython.core.display.Image object>"
      ]
     },
     "metadata": {},
     "output_type": "display_data"
    },
    {
     "name": "stdout",
     "output_type": "stream",
     "text": [
      "[[160 170 169 ..., 130 139 143]\n",
      " [147 157 158 ..., 135 139 132]\n",
      " [154 158 163 ..., 137 142 122]\n",
      " ..., \n",
      " [182 185 179 ..., 147 146 162]\n",
      " [182 184 173 ..., 151 149 165]\n",
      " [193 182 166 ..., 157 156 164]]\n",
      "36\n",
      "36\n",
      "{'prob': array([[ 0.99773312,  0.00226688]], dtype=float32)}\n",
      "visage trouvé @ 12 , 144\n"
     ]
    },
    {
     "data": {
      "image/jpeg": "[encoded data removed]",
      "text/plain": [
       "<IPython.core.display.Image object>"
      ]
     },
     "metadata": {},
     "output_type": "display_data"
    },
    {
     "name": "stdout",
     "output_type": "stream",
     "text": [
      "[[172 167 159 ..., 186 172 183]\n",
      " [146 149 140 ..., 180 182 199]\n",
      " [118 112 115 ..., 161 171 189]\n",
      " ..., \n",
      " [179 163 127 ..., 167 166 178]\n",
      " [161 169 146 ..., 174 179 200]\n",
      " [146 146 133 ..., 190 200 222]]\n",
      "36\n",
      "36\n",
      "{'prob': array([[ 0.99777442,  0.00222558]], dtype=float32)}\n",
      "visage trouvé @ 12 , 156\n"
     ]
    },
    {
     "data": {
      "image/jpeg": "[encoded data removed]",
      "text/plain": [
       "<IPython.core.display.Image object>"
      ]
     },
     "metadata": {},
     "output_type": "display_data"
    },
    {
     "name": "stdout",
     "output_type": "stream",
     "text": [
      "[[171 179 168 ..., 110 111 118]\n",
      " [167 158 140 ..., 114 120 134]\n",
      " [155 159 159 ..., 117 128 157]\n",
      " ..., \n",
      " [158 137 135 ..., 201 201 199]\n",
      " [167 166 168 ..., 192 205 204]\n",
      " [152 166 180 ..., 188 202 210]]\n",
      "36\n",
      "36\n",
      "{'prob': array([[ 0.99778134,  0.00221867]], dtype=float32)}\n",
      "visage trouvé @ 12 , 168\n"
     ]
    },
    {
     "data": {
      "image/jpeg": "[encoded data removed]",
      "text/plain": [
       "<IPython.core.display.Image object>"
      ]
     },
     "metadata": {},
     "output_type": "display_data"
    },
    {
     "name": "stdout",
     "output_type": "stream",
     "text": [
      "[[160 162 163 ..., 184 193 188]\n",
      " [126 121 126 ..., 181 183 167]\n",
      " [107 103 121 ..., 160 147 144]\n",
      " ..., \n",
      " [178 168 170 ..., 202 184 200]\n",
      " [189 177 189 ..., 200 186 203]\n",
      " [178 189 189 ..., 192 197 202]]\n",
      "36\n",
      "36\n",
      "{'prob': array([[ 0.99777055,  0.00222951]], dtype=float32)}\n",
      "visage trouvé @ 12 , 180\n"
     ]
    },
    {
     "data": {
      "image/jpeg": "[encoded data removed]",
      "text/plain": [
       "<IPython.core.display.Image object>"
      ]
     },
     "metadata": {},
     "output_type": "display_data"
    },
    {
     "name": "stdout",
     "output_type": "stream",
     "text": [
      "[[174 188 204 ..., 240 238 238]\n",
      " [201 190 173 ..., 239 237 236]\n",
      " [239 233 204 ..., 238 236 236]\n",
      " ..., \n",
      " [250 248 241 ...,  45  50  66]\n",
      " [251 250 246 ...,  35  38  46]\n",
      " [251 250 248 ...,  36  36  40]]\n",
      "36\n",
      "36\n",
      "{'prob': array([[ 0.99735945,  0.00264053]], dtype=float32)}\n",
      "visage trouvé @ 24 , 0\n"
     ]
    },
    {
     "data": {
      "image/jpeg": "[encoded data removed]",
      "text/plain": [
       "<IPython.core.display.Image object>"
      ]
     },
     "metadata": {},
     "output_type": "display_data"
    },
    {
     "name": "stdout",
     "output_type": "stream",
     "text": [
      "[[239 243 242 ..., 158 176 180]\n",
      " [230 236 240 ..., 175 178 169]\n",
      " [189 220 240 ..., 177 170 151]\n",
      " ..., \n",
      " [ 96  87  80 ...,  49  46  41]\n",
      " [ 95  86  78 ...,  51  51  47]\n",
      " [ 92  84  79 ...,  51  54  53]]\n",
      "36\n",
      "36\n",
      "{'prob': array([[ 0.98105407,  0.01894591]], dtype=float32)}\n",
      "visage trouvé @ 24 , 12\n"
     ]
    },
    {
     "data": {
      "image/jpeg": "[encoded data removed]",
      "text/plain": [
       "<IPython.core.display.Image object>"
      ]
     },
     "metadata": {},
     "output_type": "display_data"
    },
    {
     "name": "stdout",
     "output_type": "stream",
     "text": [
      "[[237 241 244 ...,  48  44  49]\n",
      " [227 234 241 ...,  88  97 101]\n",
      " [230 228 234 ..., 139 166 157]\n",
      " ..., \n",
      " [ 35  34  33 ...,  51  51  50]\n",
      " [ 38  34  32 ...,  53  48  45]\n",
      " [ 47  42  38 ...,  47  40  35]]\n",
      "36\n",
      "36\n",
      "{'prob': array([[ 0.98074466,  0.01925541]], dtype=float32)}\n",
      "visage trouvé @ 24 , 24\n"
     ]
    },
    {
     "data": {
      "image/jpeg": "[encoded data removed]",
      "text/plain": [
       "<IPython.core.display.Image object>"
      ]
     },
     "metadata": {},
     "output_type": "display_data"
    },
    {
     "name": "stdout",
     "output_type": "stream",
     "text": [
      "[[236 236 235 ...,  66  56  57]\n",
      " [233 233 233 ..., 147 135 121]\n",
      " [232 232 231 ..., 162 147  96]\n",
      " ..., \n",
      " [ 76  72  61 ...,  52  54  54]\n",
      " [ 53  54  53 ...,  40  45  48]\n",
      " [ 42  45  50 ...,  36  36  39]]\n",
      "36\n",
      "36\n",
      "[[186 188 183 ..., 111 110 112]\n",
      " [171 178 173 ..., 143 139 119]\n",
      " [150 148 131 ...,  88 117 114]\n",
      " ..., \n",
      " [ 41  42  37 ...,  39  36  41]\n",
      " [ 47  42  34 ...,  33  30  33]\n",
      " [ 49  40  32 ...,  29  28  28]]\n",
      "36\n",
      "36\n",
      "[[ 50  54  53 ..., 103  88  84]\n",
      " [103 102  98 ...,  42  51  85]\n",
      " [163 138  88 ...,  27  35  50]\n",
      " ..., \n",
      " [ 52  52  45 ...,  27  24  25]\n",
      " [ 47  46  37 ...,  26  24  24]\n",
      " [ 35  35  30 ...,  30  27  25]]\n",
      "36\n",
      "36\n",
      "[[ 72  94  83 ...,  48  49  37]\n",
      " [137 148 113 ...,  34  33  40]\n",
      " [ 98 114 106 ...,  26  31  36]\n",
      " ..., \n",
      " [ 55  54  50 ...,  52  62  58]\n",
      " [ 49  50  53 ...,  48  61  60]\n",
      " [ 42  43  49 ...,  43  55  57]]\n",
      "36\n",
      "36\n",
      "[[128 148 151 ...,  33  71  92]\n",
      " [124 136 138 ...,  63  92  90]\n",
      " [ 98  98 111 ...,  76  99  86]\n",
      " ..., \n",
      " [ 40  32  27 ...,  84  81  64]\n",
      " [ 32  27  24 ...,  71  72  61]\n",
      " [ 26  28  26 ...,  79  80  60]]\n",
      "36\n",
      "36\n",
      "[[ 64  42  86 ..., 168 168 169]\n",
      " [ 76  32  55 ..., 166 169 166]\n",
      " [ 41  18  25 ..., 165 176 169]\n",
      " ..., \n",
      " [ 27  31  38 ..., 197 161 134]\n",
      " [ 27  31  37 ..., 172 149 135]\n",
      " [ 27  31  38 ..., 131 117 112]]\n",
      "36\n",
      "36\n",
      "{'prob': array([[ 0.99072218,  0.00927789]], dtype=float32)}\n",
      "visage trouvé @ 24 , 96\n"
     ]
    },
    {
     "data": {
      "image/jpeg": "[encoded data removed]",
      "text/plain": [
       "<IPython.core.display.Image object>"
      ]
     },
     "metadata": {},
     "output_type": "display_data"
    },
    {
     "name": "stdout",
     "output_type": "stream",
     "text": [
      "[[ 34  24  35 ..., 141 125 130]\n",
      " [ 32  21  22 ..., 142 129 130]\n",
      " [ 31  23  23 ..., 152 146 125]\n",
      " ..., \n",
      " [ 55  58  61 ..., 141 157 134]\n",
      " [ 55  55  57 ..., 145 162 146]\n",
      " [ 55  56  55 ..., 149 143 143]]\n",
      "36\n",
      "36\n",
      "{'prob': array([[ 0.99437439,  0.00562562]], dtype=float32)}\n",
      "visage trouvé @ 24 , 108\n"
     ]
    },
    {
     "data": {
      "image/jpeg": "[encoded data removed]",
      "text/plain": [
       "<IPython.core.display.Image object>"
      ]
     },
     "metadata": {},
     "output_type": "display_data"
    },
    {
     "name": "stdout",
     "output_type": "stream",
     "text": [
      "[[ 88  99  98 ..., 179 194 213]\n",
      " [ 94  99  90 ..., 194 200 205]\n",
      " [102  99  78 ..., 191 177 188]\n",
      " ..., \n",
      " [ 80 127  89 ..., 143 126 127]\n",
      " [ 77 120  87 ..., 128 113 138]\n",
      " [ 72 108  83 ..., 162 123 132]]\n",
      "36\n",
      "36\n",
      "{'prob': array([[ 0.9931311 ,  0.00686886]], dtype=float32)}\n",
      "visage trouvé @ 24 , 120\n"
     ]
    },
    {
     "data": {
      "image/jpeg": "[encoded data removed]",
      "text/plain": [
       "<IPython.core.display.Image object>"
      ]
     },
     "metadata": {},
     "output_type": "display_data"
    },
    {
     "name": "stdout",
     "output_type": "stream",
     "text": [
      "[[169 161 135 ..., 222 227 205]\n",
      " [153 144 134 ..., 204 214 205]\n",
      " [157 140 131 ..., 198 200 191]\n",
      " ..., \n",
      " [149 157 145 ..., 128 127 119]\n",
      " [134 130 145 ..., 126 124 127]\n",
      " [123 107 122 ..., 145 161 156]]\n",
      "36\n",
      "36\n",
      "{'prob': array([[ 0.9978618 ,  0.00213823]], dtype=float32)}\n",
      "visage trouvé @ 24 , 132\n"
     ]
    },
    {
     "data": {
      "image/jpeg": "[encoded data removed]",
      "text/plain": [
       "<IPython.core.display.Image object>"
      ]
     },
     "metadata": {},
     "output_type": "display_data"
    },
    {
     "name": "stdout",
     "output_type": "stream",
     "text": [
      "[[140 121 105 ..., 198 208 209]\n",
      " [140 130 132 ..., 185 174 175]\n",
      " [127 124 163 ..., 190 178 185]\n",
      " ..., \n",
      " [145 158 171 ..., 129 119 134]\n",
      " [154 170 173 ..., 140 122 110]\n",
      " [158 170 157 ..., 130 121 110]]\n",
      "36\n",
      "36\n",
      "{'prob': array([[ 0.99810201,  0.00189804]], dtype=float32)}\n",
      "visage trouvé @ 24 , 144\n"
     ]
    },
    {
     "data": {
      "image/jpeg": "[encoded data removed]",
      "text/plain": [
       "<IPython.core.display.Image object>"
      ]
     },
     "metadata": {},
     "output_type": "display_data"
    },
    {
     "name": "stdout",
     "output_type": "stream",
     "text": [
      "[[200 149 129 ..., 211 216 211]\n",
      " [189 145 112 ..., 207 197 194]\n",
      " [171 134 105 ..., 198 196 197]\n",
      " ..., \n",
      " [155 176 203 ..., 143 139 130]\n",
      " [175 181 200 ..., 174 155 129]\n",
      " [148 158 168 ..., 184 176 155]]\n",
      "36\n",
      "36\n",
      "{'prob': array([[ 0.99711335,  0.00288665]], dtype=float32)}\n",
      "visage trouvé @ 24 , 156\n"
     ]
    },
    {
     "data": {
      "image/jpeg": "[encoded data removed]",
      "text/plain": [
       "<IPython.core.display.Image object>"
      ]
     },
     "metadata": {},
     "output_type": "display_data"
    },
    {
     "name": "stdout",
     "output_type": "stream",
     "text": [
      "[[179 185 217 ..., 135 129 134]\n",
      " [193 213 227 ..., 160 158 163]\n",
      " [186 209 227 ..., 205 214 210]\n",
      " ..., \n",
      " [134 163 175 ..., 145 143 143]\n",
      " [138 166 159 ..., 139 160 155]\n",
      " [173 185 154 ..., 132 159 148]]\n",
      "36\n",
      "36\n",
      "{'prob': array([[ 0.99766856,  0.00233141]], dtype=float32)}\n",
      "visage trouvé @ 24 , 168\n"
     ]
    },
    {
     "data": {
      "image/jpeg": "[encoded data removed]",
      "text/plain": [
       "<IPython.core.display.Image object>"
      ]
     },
     "metadata": {},
     "output_type": "display_data"
    },
    {
     "name": "stdout",
     "output_type": "stream",
     "text": [
      "[[168 170 201 ..., 110 115 113]\n",
      " [169 177 204 ..., 121 123 116]\n",
      " [175 185 200 ..., 133 120 108]\n",
      " ..., \n",
      " [153 142 128 ..., 136 121 127]\n",
      " [127 126 132 ..., 148 137 126]\n",
      " [127 133 143 ..., 148 147 132]]\n",
      "36\n",
      "36\n",
      "{'prob': array([[ 0.99778134,  0.00221867]], dtype=float32)}\n",
      "visage trouvé @ 24 , 180\n"
     ]
    },
    {
     "data": {
      "image/jpeg": "[encoded data removed]",
      "text/plain": [
       "<IPython.core.display.Image object>"
      ]
     },
     "metadata": {},
     "output_type": "display_data"
    },
    {
     "name": "stdout",
     "output_type": "stream",
     "text": [
      "[[238 238 239 ..., 203 206 200]\n",
      " [239 239 239 ..., 194 203 190]\n",
      " [246 245 241 ..., 130 175 177]\n",
      " ..., \n",
      " [240 238 234 ...,  77  73  75]\n",
      " [250 246 240 ...,  76  72  77]\n",
      " [250 248 243 ...,  66  67  80]]\n",
      "36\n",
      "36\n",
      "{'prob': array([[ 0.99490672,  0.00509328]], dtype=float32)}\n",
      "visage trouvé @ 36 , 0\n"
     ]
    },
    {
     "data": {
      "image/jpeg": "[encoded data removed]",
      "text/plain": [
       "<IPython.core.display.Image object>"
      ]
     },
     "metadata": {},
     "output_type": "display_data"
    },
    {
     "name": "stdout",
     "output_type": "stream",
     "text": [
      "[[248 249 249 ...,  53  51  56]\n",
      " [248 249 248 ...,  92  85  92]\n",
      " [246 247 247 ...,  92  92  97]\n",
      " ..., \n",
      " [242 227 209 ...,  50  44  33]\n",
      " [238 225 215 ...,  58  51  37]\n",
      " [236 229 220 ...,  67  70  50]]\n",
      "36\n",
      "36\n",
      "{'prob': array([[ 0.99711633,  0.00288364]], dtype=float32)}\n",
      "visage trouvé @ 36 , 12\n"
     ]
    },
    {
     "data": {
      "image/jpeg": "[encoded data removed]",
      "text/plain": [
       "<IPython.core.display.Image object>"
      ]
     },
     "metadata": {},
     "output_type": "display_data"
    },
    {
     "name": "stdout",
     "output_type": "stream",
     "text": [
      "[[109  92  82 ...,  73  79  86]\n",
      " [115  91  75 ..., 134 138 135]\n",
      " [125  84  66 ..., 118 103  81]\n",
      " ..., \n",
      " [ 61  65  67 ...,  77  81  70]\n",
      " [ 61  64  66 ..., 100 122 115]\n",
      " [ 62  64  66 ..., 137 145 156]]\n",
      "36\n",
      "36\n",
      "{'prob': array([[ 0.99270612,  0.00729385]], dtype=float32)}\n",
      "visage trouvé @ 36 , 24\n"
     ]
    },
    {
     "data": {
      "image/jpeg": "[encoded data removed]",
      "text/plain": [
       "<IPython.core.display.Image object>"
      ]
     },
     "metadata": {},
     "output_type": "display_data"
    },
    {
     "name": "stdout",
     "output_type": "stream",
     "text": [
      "[[164  82  48 ..., 127 121 123]\n",
      " [144  79  61 ...,  90  62  74]\n",
      " [116  95 106 ...,  31  16  26]\n",
      " ..., \n",
      " [ 83  88  86 ...,  82  52  48]\n",
      " [ 83  89  90 ...,  93 104 104]\n",
      " [ 74  92  90 ..., 116 147 153]]\n",
      "36\n",
      "36\n",
      "[[ 60  60  63 ...,  80  77  73]\n",
      " [105 105 100 ...,  30  22  48]\n",
      " [107 112 108 ...,  19  19  49]\n",
      " ..., \n",
      " [ 32  27  28 ..., 143  85  82]\n",
      " [ 36  37  41 ..., 120  95 112]\n",
      " [ 52  66  67 ..., 149 133 128]]\n",
      "36\n",
      "36\n",
      "[[ 93  86  95 ...,  37  73 143]\n",
      " [131 128 130 ...,  45  38  67]\n",
      " [ 87  84  80 ...,  43  25  29]\n",
      " ..., \n",
      " [ 66  54  86 ...,  77  53  37]\n",
      " [ 84  54  91 ..., 116  88  70]\n",
      " [120  77 105 ..., 117 108 108]]\n",
      "36\n",
      "36\n",
      "[[126 134 141 ...,  13  11  17]\n",
      " [107 127 138 ...,  23  25  26]\n",
      " [ 44  59  66 ...,  43  49  53]\n",
      " ..., \n",
      " [ 69 112 159 ..., 121 152 173]\n",
      " [107 118 119 ..., 111 135 151]\n",
      " [134 109  85 ..., 104 109 118]]\n",
      "36\n",
      "36\n",
      "[[ 90  87 112 ..., 100 107 125]\n",
      " [ 79  56  91 ..., 107 104 132]\n",
      " [ 60  38  54 ..., 104  92 129]\n",
      " ..., \n",
      " [100 128 111 ..., 133  87  54]\n",
      " [135 144 135 ..., 161 113  57]\n",
      " [149 158 140 ..., 202 144  62]]\n",
      "36\n",
      "36\n",
      "[[124  75  61 ..., 192 171 164]\n",
      " [ 48  21  13 ..., 210 201 192]\n",
      " [ 22  18  18 ..., 209 207 205]\n",
      " ..., \n",
      " [ 50  69  85 ..., 171 133  95]\n",
      " [ 66  71 107 ..., 200 143  91]\n",
      " [ 96  64 102 ..., 212 150  93]]\n",
      "36\n",
      "36\n",
      "[[ 26  21  22 ..., 177 180 183]\n",
      " [ 25  23  25 ..., 190 189 196]\n",
      " [ 53  47  43 ..., 201 198 202]\n",
      " ..., \n",
      " [164 144 137 ..., 107 121 122]\n",
      " [158 151 148 ...,  98 108 110]\n",
      " [106  92  96 ..., 111 112 112]]\n",
      "36\n",
      "36\n",
      "{'prob': array([[ 0.99230051,  0.0076995 ]], dtype=float32)}\n",
      "visage trouvé @ 36 , 108\n"
     ]
    },
    {
     "data": {
      "image/jpeg": "[encoded data removed]",
      "text/plain": [
       "<IPython.core.display.Image object>"
      ]
     },
     "metadata": {},
     "output_type": "display_data"
    },
    {
     "name": "stdout",
     "output_type": "stream",
     "text": [
      "[[ 97 100 159 ..., 197 172 153]\n",
      " [ 94  86 126 ..., 197 192 177]\n",
      " [ 93  78 104 ..., 161 163 163]\n",
      " ..., \n",
      " [ 58  72 107 ..., 124 117 115]\n",
      " [ 56  65 105 ..., 108 111 110]\n",
      " [ 57  62  99 ..., 100 103 108]]\n",
      "36\n",
      "36\n",
      "{'prob': array([[ 0.99778134,  0.00221867]], dtype=float32)}\n",
      "visage trouvé @ 36 , 120\n"
     ]
    },
    {
     "data": {
      "image/jpeg": "[encoded data removed]",
      "text/plain": [
       "<IPython.core.display.Image object>"
      ]
     },
     "metadata": {},
     "output_type": "display_data"
    },
    {
     "name": "stdout",
     "output_type": "stream",
     "text": [
      "[[174 188 190 ..., 169 174 159]\n",
      " [191 198 201 ..., 184 186 155]\n",
      " [196 191 191 ..., 182 176 159]\n",
      " ..., \n",
      " [ 81  73  83 ..., 145 133 126]\n",
      " [ 77  69  81 ..., 144 127 114]\n",
      " [ 85  87 102 ..., 122 131 125]]\n",
      "36\n",
      "36\n",
      "{'prob': array([[ 0.99778134,  0.00221867]], dtype=float32)}\n",
      "visage trouvé @ 36 , 132\n"
     ]
    },
    {
     "data": {
      "image/jpeg": "[encoded data removed]",
      "text/plain": [
       "<IPython.core.display.Image object>"
      ]
     },
     "metadata": {},
     "output_type": "display_data"
    },
    {
     "name": "stdout",
     "output_type": "stream",
     "text": [
      "[[186 186 164 ..., 186 197 185]\n",
      " [198 173 151 ..., 175 181 180]\n",
      " [199 157 143 ..., 168 176 176]\n",
      " ..., \n",
      " [120 131 131 ..., 207 166 117]\n",
      " [106 114 131 ..., 176 143 126]\n",
      " [106 114 126 ..., 149 124 115]]\n",
      "36\n",
      "36\n",
      "{'prob': array([[ 0.99692243,  0.00307758]], dtype=float32)}\n",
      "visage trouvé @ 36 , 144\n"
     ]
    },
    {
     "data": {
      "image/jpeg": "[encoded data removed]",
      "text/plain": [
       "<IPython.core.display.Image object>"
      ]
     },
     "metadata": {},
     "output_type": "display_data"
    },
    {
     "name": "stdout",
     "output_type": "stream",
     "text": [
      "[[177 180 187 ..., 205 216 209]\n",
      " [187 189 190 ..., 196 201 213]\n",
      " [165 182 187 ..., 191 196 211]\n",
      " ..., \n",
      " [123 118 102 ..., 222 218 157]\n",
      " [120 120 107 ..., 208 189 140]\n",
      " [107 114 110 ..., 181 166 151]]\n",
      "36\n",
      "36\n",
      "{'prob': array([[ 0.99752241,  0.00247755]], dtype=float32)}\n",
      "visage trouvé @ 36 , 156\n"
     ]
    },
    {
     "data": {
      "image/jpeg": "[encoded data removed]",
      "text/plain": [
       "<IPython.core.display.Image object>"
      ]
     },
     "metadata": {},
     "output_type": "display_data"
    },
    {
     "name": "stdout",
     "output_type": "stream",
     "text": [
      "[[164 166 183 ..., 211 225 224]\n",
      " [159 162 182 ..., 217 233 228]\n",
      " [158 163 179 ..., 214 229 231]\n",
      " ..., \n",
      " [118 104 110 ..., 175 177 173]\n",
      " [ 99  89  99 ..., 180 170 161]\n",
      " [106  96  95 ..., 166 157 143]]\n",
      "36\n",
      "36\n",
      "{'prob': array([[ 0.99736279,  0.00263726]], dtype=float32)}\n",
      "visage trouvé @ 36 , 168\n"
     ]
    },
    {
     "data": {
      "image/jpeg": "[encoded data removed]",
      "text/plain": [
       "<IPython.core.display.Image object>"
      ]
     },
     "metadata": {},
     "output_type": "display_data"
    },
    {
     "name": "stdout",
     "output_type": "stream",
     "text": [
      "[[172 166 179 ..., 176 164 171]\n",
      " [167 162 185 ..., 177 179 181]\n",
      " [159 164 176 ..., 188 192 180]\n",
      " ..., \n",
      " [ 97 113 147 ..., 135 116 128]\n",
      " [114 102 117 ..., 111 118 139]\n",
      " [110 113 127 ..., 126 127 130]]\n",
      "36\n",
      "36\n",
      "{'prob': array([[ 0.99778134,  0.00221867]], dtype=float32)}\n",
      "visage trouvé @ 36 , 180\n"
     ]
    },
    {
     "data": {
      "image/jpeg": "[encoded data removed]",
      "text/plain": [
       "<IPython.core.display.Image object>"
      ]
     },
     "metadata": {},
     "output_type": "display_data"
    },
    {
     "name": "stdout",
     "output_type": "stream",
     "text": [
      "[[235 240 243 ...,  38  32  32]\n",
      " [234 239 243 ...,  36  31  32]\n",
      " [241 242 243 ...,  34  31  30]\n",
      " ..., \n",
      " [242 240 236 ...,  93  94  85]\n",
      " [233 237 234 ...,  93  94  92]\n",
      " [230 230 228 ...,  93  94  92]]\n",
      "36\n",
      "36\n",
      "[[204 227 240 ...,  29  27  27]\n",
      " [158 174 198 ...,  32  29  24]\n",
      " [127 133 139 ...,  38  40  34]\n",
      " ..., \n",
      " [101  91  87 ...,  35  28  25]\n",
      " [ 98  84  82 ...,  32  29  30]\n",
      " [ 98  84  79 ...,  26  27  30]]\n",
      "36\n",
      "36\n",
      "{'prob': array([[ 0.99674368,  0.00325633]], dtype=float32)}\n",
      "visage trouvé @ 48 , 12\n"
     ]
    },
    {
     "data": {
      "image/jpeg": "[encoded data removed]",
      "text/plain": [
       "<IPython.core.display.Image object>"
      ]
     },
     "metadata": {},
     "output_type": "display_data"
    },
    {
     "name": "stdout",
     "output_type": "stream",
     "text": [
      "[[150 156 159 ...,   9   7  10]\n",
      " [157 152 157 ...,   9   7  11]\n",
      " [161 150 140 ...,  29  22  40]\n",
      " ..., \n",
      " [ 72  71  73 ...,  43  45  39]\n",
      " [ 70  68  70 ...,  63  67  59]\n",
      " [ 68  64  64 ..., 130 122 108]]\n",
      "36\n",
      "36\n",
      "{'prob': array([[  9.99020934e-01,   9.79061006e-04]], dtype=float32)}\n",
      "visage trouvé @ 48 , 24\n"
     ]
    },
    {
     "data": {
      "image/jpeg": "[encoded data removed]",
      "text/plain": [
       "<IPython.core.display.Image object>"
      ]
     },
     "metadata": {},
     "output_type": "display_data"
    },
    {
     "name": "stdout",
     "output_type": "stream",
     "text": [
      "[[ 30  26  25 ...,  14  15  18]\n",
      " [ 30  27  25 ...,  26  30  36]\n",
      " [ 29  27  26 ...,  80  83  76]\n",
      " ..., \n",
      " [ 67  53  52 ...,  30  36  41]\n",
      " [ 85  69  54 ...,  56  60  56]\n",
      " [ 91  88  78 ..., 100 101  83]]\n",
      "36\n",
      "36\n",
      "{'prob': array([[  9.99206007e-01,   7.93983287e-04]], dtype=float32)}\n",
      "visage trouvé @ 48 , 36\n"
     ]
    },
    {
     "data": {
      "image/jpeg": "[encoded data removed]",
      "text/plain": [
       "<IPython.core.display.Image object>"
      ]
     },
     "metadata": {},
     "output_type": "display_data"
    },
    {
     "name": "stdout",
     "output_type": "stream",
     "text": [
      "[[ 25  22  24 ...,  26  21  21]\n",
      " [ 22  22  22 ...,  68  55  34]\n",
      " [ 31  31  30 ..., 117 116  96]\n",
      " ..., \n",
      " [ 24  26  23 ...,  50  44  45]\n",
      " [ 24  22  23 ...,  57  53  58]\n",
      " [ 21  17  20 ...,  56  53  68]]\n",
      "36\n",
      "36\n",
      "{'prob': array([[  9.99413967e-01,   5.86008013e-04]], dtype=float32)}\n",
      "visage trouvé @ 48 , 48\n"
     ]
    },
    {
     "data": {
      "image/jpeg": "[encoded data removed]",
      "text/plain": [
       "<IPython.core.display.Image object>"
      ]
     },
     "metadata": {},
     "output_type": "display_data"
    },
    {
     "name": "stdout",
     "output_type": "stream",
     "text": [
      "[[  9   9  13 ...,  26  29  27]\n",
      " [ 13  15  15 ...,  78  87  87]\n",
      " [ 54  60  49 ..., 147 149 144]\n",
      " ..., \n",
      " [ 37  34  34 ...,  57  58  54]\n",
      " [ 56  57  57 ...,  85  75  76]\n",
      " [104 113 116 ..., 105  88 127]]\n",
      "36\n",
      "36\n",
      "{'prob': array([[  9.99402642e-01,   5.97333361e-04]], dtype=float32)}\n",
      "visage trouvé @ 48 , 60\n"
     ]
    },
    {
     "data": {
      "image/jpeg": "[encoded data removed]",
      "text/plain": [
       "<IPython.core.display.Image object>"
      ]
     },
     "metadata": {},
     "output_type": "display_data"
    },
    {
     "name": "stdout",
     "output_type": "stream",
     "text": [
      "[[ 20  20  20 ...,  78 108  94]\n",
      " [ 47  47  55 ..., 125 141 145]\n",
      " [ 82  91 109 ..., 144 141 152]\n",
      " ..., \n",
      " [ 36  36  40 ...,  88  91  73]\n",
      " [ 41  39  42 ..., 189 191 131]\n",
      " [ 49  41  42 ..., 185 226 188]]\n",
      "36\n",
      "36\n",
      "{'prob': array([[  9.99370635e-01,   6.29340357e-04]], dtype=float32)}\n",
      "visage trouvé @ 48 , 72\n"
     ]
    },
    {
     "data": {
      "image/jpeg": "[encoded data removed]",
      "text/plain": [
       "<IPython.core.display.Image object>"
      ]
     },
     "metadata": {},
     "output_type": "display_data"
    },
    {
     "name": "stdout",
     "output_type": "stream",
     "text": [
      "[[ 19  17  21 ...,  79  77  99]\n",
      " [ 27  24  23 ..., 106  86 105]\n",
      " [ 88  76  52 ...,  95  80  96]\n",
      " ..., \n",
      " [ 50  49  45 ..., 176 202 152]\n",
      " [ 72  67  71 ..., 227 225 169]\n",
      " [ 97  98 107 ..., 226 224 175]]\n",
      "36\n",
      "36\n",
      "{'prob': array([[  9.99198377e-01,   8.01627059e-04]], dtype=float32)}\n",
      "visage trouvé @ 48 , 84\n"
     ]
    },
    {
     "data": {
      "image/jpeg": "[encoded data removed]",
      "text/plain": [
       "<IPython.core.display.Image object>"
      ]
     },
     "metadata": {},
     "output_type": "display_data"
    },
    {
     "name": "stdout",
     "output_type": "stream",
     "text": [
      "[[ 26  36  54 ..., 184 186 195]\n",
      " [ 87  96  93 ..., 171 169 177]\n",
      " [144 142 140 ..., 168 161 165]\n",
      " ..., \n",
      " [ 47  44  48 ..., 178 182 183]\n",
      " [ 59  46  61 ..., 210 212 213]\n",
      " [ 81  49 101 ..., 211 213 217]]\n",
      "36\n",
      "36\n",
      "{'prob': array([[  9.99076247e-01,   9.23726126e-04]], dtype=float32)}\n",
      "visage trouvé @ 48 , 96\n"
     ]
    },
    {
     "data": {
      "image/jpeg": "[encoded data removed]",
      "text/plain": [
       "<IPython.core.display.Image object>"
      ]
     },
     "metadata": {},
     "output_type": "display_data"
    },
    {
     "name": "stdout",
     "output_type": "stream",
     "text": [
      "[[ 84  86  86 ..., 166 174 184]\n",
      " [130 129 132 ..., 177 169 178]\n",
      " [151 156 153 ..., 188 179 192]\n",
      " ..., \n",
      " [ 53  43  47 ..., 214 211 203]\n",
      " [ 54  40  48 ..., 227 212 180]\n",
      " [ 80  41  52 ..., 224 211 176]]\n",
      "36\n",
      "36\n",
      "{'prob': array([[ 0.99854773,  0.00145229]], dtype=float32)}\n",
      "visage trouvé @ 48 , 108\n"
     ]
    },
    {
     "data": {
      "image/jpeg": "[encoded data removed]",
      "text/plain": [
       "<IPython.core.display.Image object>"
      ]
     },
     "metadata": {},
     "output_type": "display_data"
    },
    {
     "name": "stdout",
     "output_type": "stream",
     "text": [
      "[[138 138  79 ..., 138 124 121]\n",
      " [139 142  80 ..., 119 122 139]\n",
      " [135 144  80 ..., 126 136 142]\n",
      " ..., \n",
      " [ 72  57  62 ..., 114 119 135]\n",
      " [ 77  54  59 ..., 111  99  95]\n",
      " [ 79  54  60 ..., 119 109  97]]\n",
      "36\n",
      "36\n",
      "{'prob': array([[ 0.99792165,  0.00207838]], dtype=float32)}\n",
      "visage trouvé @ 48 , 120\n"
     ]
    },
    {
     "data": {
      "image/jpeg": "[encoded data removed]",
      "text/plain": [
       "<IPython.core.display.Image object>"
      ]
     },
     "metadata": {},
     "output_type": "display_data"
    },
    {
     "name": "stdout",
     "output_type": "stream",
     "text": [
      "[[195 180 157 ..., 166 165 153]\n",
      " [191 167 154 ..., 151 166 177]\n",
      " [190 178 156 ..., 157 180 186]\n",
      " ..., \n",
      " [188 193 196 ..., 159 160 140]\n",
      " [216 219 222 ..., 153 149 135]\n",
      " [219 219 222 ..., 135 130 130]]\n",
      "36\n",
      "36\n",
      "{'prob': array([[ 0.99796617,  0.0020338 ]], dtype=float32)}\n",
      "visage trouvé @ 48 , 132\n"
     ]
    },
    {
     "data": {
      "image/jpeg": "[encoded data removed]",
      "text/plain": [
       "<IPython.core.display.Image object>"
      ]
     },
     "metadata": {},
     "output_type": "display_data"
    },
    {
     "name": "stdout",
     "output_type": "stream",
     "text": [
      "[[194 183 165 ..., 152 166 171]\n",
      " [195 189 165 ..., 156 155 182]\n",
      " [190 176 174 ..., 163 138 166]\n",
      " ..., \n",
      " [170 160 165 ..., 149 120 117]\n",
      " [167 175 169 ..., 145 112 116]\n",
      " [161 160 157 ..., 129 113 113]]\n",
      "36\n",
      "36\n",
      "{'prob': array([[ 0.9977597 ,  0.00224028]], dtype=float32)}\n",
      "visage trouvé @ 48 , 144\n"
     ]
    },
    {
     "data": {
      "image/jpeg": "[encoded data removed]",
      "text/plain": [
       "<IPython.core.display.Image object>"
      ]
     },
     "metadata": {},
     "output_type": "display_data"
    },
    {
     "name": "stdout",
     "output_type": "stream",
     "text": [
      "[[134 139 130 ..., 194 201 200]\n",
      " [147 150 152 ..., 195 201 200]\n",
      " [163 165 159 ..., 196 199 195]\n",
      " ..., \n",
      " [114 101 106 ..., 123 136 152]\n",
      " [ 95  99 108 ..., 114 131 147]\n",
      " [103  97 110 ..., 115 149 178]]\n",
      "36\n",
      "36\n",
      "{'prob': array([[ 0.99778134,  0.00221867]], dtype=float32)}\n",
      "visage trouvé @ 48 , 156\n"
     ]
    },
    {
     "data": {
      "image/jpeg": "[encoded data removed]",
      "text/plain": [
       "<IPython.core.display.Image object>"
      ]
     },
     "metadata": {},
     "output_type": "display_data"
    },
    {
     "name": "stdout",
     "output_type": "stream",
     "text": [
      "[[153 165 184 ..., 192 201 201]\n",
      " [183 207 223 ..., 216 212 193]\n",
      " [199 228 240 ..., 203 205 196]\n",
      " ..., \n",
      " [141 131 110 ..., 146 165 142]\n",
      " [166 159 130 ..., 153 179 141]\n",
      " [148 140 132 ..., 152 141 105]]\n",
      "36\n",
      "36\n",
      "{'prob': array([[ 0.99778134,  0.00221867]], dtype=float32)}\n",
      "visage trouvé @ 48 , 168\n"
     ]
    },
    {
     "data": {
      "image/jpeg": "[encoded data removed]",
      "text/plain": [
       "<IPython.core.display.Image object>"
      ]
     },
     "metadata": {},
     "output_type": "display_data"
    },
    {
     "name": "stdout",
     "output_type": "stream",
     "text": [
      "[[164 189 189 ..., 189 198 187]\n",
      " [194 195 182 ..., 194 191 184]\n",
      " [206 192 162 ..., 188 179 179]\n",
      " ..., \n",
      " [128 106 118 ..., 171 180 157]\n",
      " [123  91 101 ..., 183 174 175]\n",
      " [109 101 120 ..., 185 150 131]]\n",
      "36\n",
      "36\n",
      "{'prob': array([[ 0.99778134,  0.00221867]], dtype=float32)}\n",
      "visage trouvé @ 48 , 180\n"
     ]
    },
    {
     "data": {
      "image/jpeg": "[encoded data removed]",
      "text/plain": [
       "<IPython.core.display.Image object>"
      ]
     },
     "metadata": {},
     "output_type": "display_data"
    },
    {
     "name": "stdout",
     "output_type": "stream",
     "text": [
      "[[251 251 249 ...,  38  39  43]\n",
      " [251 251 250 ...,  38  42  48]\n",
      " [251 251 251 ...,  46  45  49]\n",
      " ..., \n",
      " [215 208 215 ...,  46  45  44]\n",
      " [221 213 217 ...,  30  38  43]\n",
      " [220 206 213 ...,  59  79  83]]\n",
      "36\n",
      "36\n",
      "{'prob': array([[ 0.99824071,  0.00175926]], dtype=float32)}\n",
      "visage trouvé @ 60 , 0\n"
     ]
    },
    {
     "data": {
      "image/jpeg": "[encoded data removed]",
      "text/plain": [
       "<IPython.core.display.Image object>"
      ]
     },
     "metadata": {},
     "output_type": "display_data"
    },
    {
     "name": "stdout",
     "output_type": "stream",
     "text": [
      "[[ 94  89  83 ...,  50  52  51]\n",
      " [102  98  90 ...,  50  56  48]\n",
      " [131 116 101 ...,  47  53  49]\n",
      " ..., \n",
      " [ 73  71  70 ...,  31  27  34]\n",
      " [ 73  72  70 ...,  31  33  41]\n",
      " [ 73  72  71 ...,  61  70  82]]\n",
      "36\n",
      "36\n",
      "{'prob': array([[ 0.99762458,  0.00237537]], dtype=float32)}\n",
      "visage trouvé @ 60 , 12\n"
     ]
    },
    {
     "data": {
      "image/jpeg": "[encoded data removed]",
      "text/plain": [
       "<IPython.core.display.Image object>"
      ]
     },
     "metadata": {},
     "output_type": "display_data"
    },
    {
     "name": "stdout",
     "output_type": "stream",
     "text": [
      "[[ 50  52  52 ...,  39  38  31]\n",
      " [ 52  56  60 ...,  35  34  29]\n",
      " [ 53  57  61 ...,  34  32  26]\n",
      " ..., \n",
      " [ 73  70  66 ...,  49  59  76]\n",
      " [ 72  59  46 ...,  62  95 110]\n",
      " [ 80  70  81 ...,  64 102 125]]\n",
      "36\n",
      "36\n",
      "[[43 43 47 ..., 32 31 35]\n",
      " [51 46 44 ..., 31 29 32]\n",
      " [53 50 40 ..., 28 26 27]\n",
      " ..., \n",
      " [45 46 47 ..., 28 30 45]\n",
      " [40 34 32 ..., 38 51 53]\n",
      " [62 47 44 ..., 45 68 50]]\n",
      "36\n",
      "36\n",
      "{'prob': array([[ 0.98574883,  0.01425118]], dtype=float32)}\n",
      "visage trouvé @ 60 , 36\n"
     ]
    },
    {
     "data": {
      "image/jpeg": "[encoded data removed]",
      "text/plain": [
       "<IPython.core.display.Image object>"
      ]
     },
     "metadata": {},
     "output_type": "display_data"
    },
    {
     "name": "stdout",
     "output_type": "stream",
     "text": [
      "[[ 46  40  31 ...,  31  31  32]\n",
      " [ 45  40  29 ...,  33  30  32]\n",
      " [ 46  38  25 ...,  31  29  30]\n",
      " ..., \n",
      " [ 35  30  35 ...,  54  55  61]\n",
      " [ 44  45  49 ...,  82  65  71]\n",
      " [ 91 105 111 ...,  44  28  38]]\n",
      "36\n",
      "36\n",
      "{'prob': array([[ 0.99897951,  0.00102042]], dtype=float32)}\n",
      "visage trouvé @ 60 , 48\n"
     ]
    },
    {
     "data": {
      "image/jpeg": "[encoded data removed]",
      "text/plain": [
       "<IPython.core.display.Image object>"
      ]
     },
     "metadata": {},
     "output_type": "display_data"
    },
    {
     "name": "stdout",
     "output_type": "stream",
     "text": [
      "[[ 28  29  27 ...,  33  30  28]\n",
      " [ 28  26  23 ...,  34  32  30]\n",
      " [ 27  26  23 ...,  29  28  28]\n",
      " ..., \n",
      " [ 53  51  72 ..., 102  87  60]\n",
      " [ 74  92 112 ...,  73  70  61]\n",
      " [103 124 137 ..., 116 117 118]]\n",
      "36\n",
      "36\n",
      "{'prob': array([[  9.99390364e-01,   6.09647133e-04]], dtype=float32)}\n",
      "visage trouvé @ 60 , 60\n"
     ]
    },
    {
     "data": {
      "image/jpeg": "[encoded data removed]",
      "text/plain": [
       "<IPython.core.display.Image object>"
      ]
     },
     "metadata": {},
     "output_type": "display_data"
    },
    {
     "name": "stdout",
     "output_type": "stream",
     "text": [
      "[[ 38  40  44 ...,  44  54  55]\n",
      " [ 35  38  43 ...,  44  57  57]\n",
      " [ 30  34  40 ...,  40  55  55]\n",
      " ..., \n",
      " [ 69  66  53 ..., 144 142 142]\n",
      " [ 65 105  98 ..., 106  92 107]\n",
      " [ 46  69  75 ...,  89  83  90]]\n",
      "36\n",
      "36\n",
      "{'prob': array([[  9.99265373e-01,   7.34586851e-04]], dtype=float32)}\n",
      "visage trouvé @ 60 , 72\n"
     ]
    },
    {
     "data": {
      "image/jpeg": "[encoded data removed]",
      "text/plain": [
       "<IPython.core.display.Image object>"
      ]
     },
     "metadata": {},
     "output_type": "display_data"
    },
    {
     "name": "stdout",
     "output_type": "stream",
     "text": [
      "[[ 31  34  31 ...,  74  87  60]\n",
      " [ 32  32  32 ...,  64  89  67]\n",
      " [ 28  28  30 ...,  55  91  80]\n",
      " ..., \n",
      " [ 70  76  61 ..., 101 122 178]\n",
      " [ 98  94  63 ..., 131  89 131]\n",
      " [ 71  53  34 ..., 131  86  83]]\n",
      "36\n",
      "36\n",
      "{'prob': array([[  9.99277055e-01,   7.22945901e-04]], dtype=float32)}\n",
      "visage trouvé @ 60 , 84\n"
     ]
    },
    {
     "data": {
      "image/jpeg": "[encoded data removed]",
      "text/plain": [
       "<IPython.core.display.Image object>"
      ]
     },
     "metadata": {},
     "output_type": "display_data"
    },
    {
     "name": "stdout",
     "output_type": "stream",
     "text": [
      "[[ 28  30  38 ..., 125 126 118]\n",
      " [ 28  29  34 ..., 154 145 142]\n",
      " [ 28  28  32 ..., 172 147 136]\n",
      " ..., \n",
      " [ 51  62  80 ..., 208 211 220]\n",
      " [ 67  96 117 ..., 202 211 221]\n",
      " [109 125 124 ..., 199 215 227]]\n",
      "36\n",
      "36\n",
      "{'prob': array([[  9.99148369e-01,   8.51599616e-04]], dtype=float32)}\n",
      "visage trouvé @ 60 , 96\n"
     ]
    },
    {
     "data": {
      "image/jpeg": "[encoded data removed]",
      "text/plain": [
       "<IPython.core.display.Image object>"
      ]
     },
     "metadata": {},
     "output_type": "display_data"
    },
    {
     "name": "stdout",
     "output_type": "stream",
     "text": [
      "[[ 56  59  58 ..., 149 149 151]\n",
      " [ 57  63  62 ..., 139 148 158]\n",
      " [ 57  62  62 ..., 145 143 140]\n",
      " ..., \n",
      " [151 151 118 ..., 233 233 233]\n",
      " [127 136 127 ..., 233 233 233]\n",
      " [100 125 111 ..., 233 233 233]]\n",
      "36\n",
      "36\n",
      "{'prob': array([[ 0.99830329,  0.00169672]], dtype=float32)}\n",
      "visage trouvé @ 60 , 108\n"
     ]
    },
    {
     "data": {
      "image/jpeg": "[encoded data removed]",
      "text/plain": [
       "<IPython.core.display.Image object>"
      ]
     },
     "metadata": {},
     "output_type": "display_data"
    },
    {
     "name": "stdout",
     "output_type": "stream",
     "text": [
      "[[ 67  99  80 ..., 165 125 133]\n",
      " [ 66  96  83 ..., 158 133 154]\n",
      " [ 65  94  87 ..., 153 140 160]\n",
      " ..., \n",
      " [135  71  60 ..., 112 104  94]\n",
      " [126  72  62 ..., 137 110 106]\n",
      " [ 92  70  67 ..., 134 105 108]]\n",
      "36\n",
      "36\n",
      "{'prob': array([[ 0.99534458,  0.00465536]], dtype=float32)}\n",
      "visage trouvé @ 60 , 120\n"
     ]
    },
    {
     "data": {
      "image/jpeg": "[encoded data removed]",
      "text/plain": [
       "<IPython.core.display.Image object>"
      ]
     },
     "metadata": {},
     "output_type": "display_data"
    },
    {
     "name": "stdout",
     "output_type": "stream",
     "text": [
      "[[120 112 113 ..., 154 159 159]\n",
      " [120 123 115 ..., 185 163 158]\n",
      " [104 122 121 ..., 174 151 139]\n",
      " ..., \n",
      " [228 229 229 ..., 114 131 119]\n",
      " [230 231 231 ..., 120 116 110]\n",
      " [232 232 232 ..., 120  94  88]]\n",
      "36\n",
      "36\n",
      "{'prob': array([[ 0.99825686,  0.00174319]], dtype=float32)}\n",
      "visage trouvé @ 60 , 132\n"
     ]
    },
    {
     "data": {
      "image/jpeg": "[encoded data removed]",
      "text/plain": [
       "<IPython.core.display.Image object>"
      ]
     },
     "metadata": {},
     "output_type": "display_data"
    },
    {
     "name": "stdout",
     "output_type": "stream",
     "text": [
      "[[154 150 139 ..., 122 116 115]\n",
      " [166 157 138 ..., 126 113 111]\n",
      " [160 166 140 ..., 117 115 113]\n",
      " ..., \n",
      " [232 232 229 ...,  96 104 109]\n",
      " [233 233 229 ...,  99 104 101]\n",
      " [233 233 229 ..., 115 113  85]]\n",
      "36\n",
      "36\n",
      "{'prob': array([[ 0.99793905,  0.00206093]], dtype=float32)}\n",
      "visage trouvé @ 60 , 144\n"
     ]
    },
    {
     "data": {
      "image/jpeg": "[encoded data removed]",
      "text/plain": [
       "<IPython.core.display.Image object>"
      ]
     },
     "metadata": {},
     "output_type": "display_data"
    },
    {
     "name": "stdout",
     "output_type": "stream",
     "text": [
      "[[134 142 146 ..., 169 174 157]\n",
      " [150 130 132 ..., 142 148 140]\n",
      " [148 133 131 ..., 149 144 138]\n",
      " ..., \n",
      " [ 97 104 119 ...,  78  81  85]\n",
      " [100 101 115 ...,  82  76  81]\n",
      " [112 109 105 ...,  93  81  79]]\n",
      "36\n",
      "36\n",
      "{'prob': array([[ 0.99778134,  0.00221867]], dtype=float32)}\n",
      "visage trouvé @ 60 , 156\n"
     ]
    },
    {
     "data": {
      "image/jpeg": "[encoded data removed]",
      "text/plain": [
       "<IPython.core.display.Image object>"
      ]
     },
     "metadata": {},
     "output_type": "display_data"
    },
    {
     "name": "stdout",
     "output_type": "stream",
     "text": [
      "[[157 153 135 ..., 129 134 137]\n",
      " [153 158 155 ..., 140 140 135]\n",
      " [153 164 149 ..., 151 156 166]\n",
      " ..., \n",
      " [118 125 119 ..., 128 129 145]\n",
      " [103  94 106 ...,  81  74 119]\n",
      " [ 97  89  99 ...,  77  78 139]]\n",
      "36\n",
      "36\n",
      "{'prob': array([[ 0.99778134,  0.00221867]], dtype=float32)}\n",
      "visage trouvé @ 60 , 168\n"
     ]
    },
    {
     "data": {
      "image/jpeg": "[encoded data removed]",
      "text/plain": [
       "<IPython.core.display.Image object>"
      ]
     },
     "metadata": {},
     "output_type": "display_data"
    },
    {
     "name": "stdout",
     "output_type": "stream",
     "text": [
      "[[123 128 135 ..., 130 123 119]\n",
      " [115 116 129 ..., 136 129 120]\n",
      " [116 118 136 ..., 160 162 124]\n",
      " ..., \n",
      " [103 104 103 ..., 207 171 132]\n",
      " [103 108 115 ..., 213 197 175]\n",
      " [ 90 103 117 ..., 223 221 220]]\n",
      "36\n",
      "36\n",
      "{'prob': array([[ 0.99777561,  0.00222442]], dtype=float32)}\n",
      "visage trouvé @ 60 , 180\n"
     ]
    },
    {
     "data": {
      "image/jpeg": "[encoded data removed]",
      "text/plain": [
       "<IPython.core.display.Image object>"
      ]
     },
     "metadata": {},
     "output_type": "display_data"
    },
    {
     "name": "stdout",
     "output_type": "stream",
     "text": [
      "[[248 248 245 ...,  95  93 104]\n",
      " [248 248 247 ..., 136 131 127]\n",
      " [247 247 247 ..., 150 150 141]\n",
      " ..., \n",
      " [175 164 190 ...,  88  91  96]\n",
      " [170 164 190 ...,  88  91  94]\n",
      " [167 164 183 ...,  88  90  94]]\n",
      "36\n",
      "36\n",
      "{'prob': array([[ 0.99792445,  0.00207557]], dtype=float32)}\n",
      "visage trouvé @ 72 , 0\n"
     ]
    },
    {
     "data": {
      "image/jpeg": "[encoded data removed]",
      "text/plain": [
       "<IPython.core.display.Image object>"
      ]
     },
     "metadata": {},
     "output_type": "display_data"
    },
    {
     "name": "stdout",
     "output_type": "stream",
     "text": [
      "[[235 230 221 ...,  94 107 102]\n",
      " [234 228 220 ..., 113  96  79]\n",
      " [232 222 213 ..., 101  49  32]\n",
      " ..., \n",
      " [ 63  62  59 ...,  46  57  75]\n",
      " [ 64  62  60 ...,  50  62  75]\n",
      " [ 65  62  61 ...,  53  60  71]]\n",
      "36\n",
      "36\n",
      "{'prob': array([[ 0.98355573,  0.0164443 ]], dtype=float32)}\n",
      "visage trouvé @ 72 , 12\n"
     ]
    },
    {
     "data": {
      "image/jpeg": "[encoded data removed]",
      "text/plain": [
       "<IPython.core.display.Image object>"
      ]
     },
     "metadata": {},
     "output_type": "display_data"
    },
    {
     "name": "stdout",
     "output_type": "stream",
     "text": [
      "[[ 65  67  80 ..., 136 128 160]\n",
      " [ 65  77 110 ...,  69 113 165]\n",
      " [ 68  92 118 ...,  38  99 137]\n",
      " ..., \n",
      " [ 71  72  71 ..., 207 216 218]\n",
      " [ 71  71  69 ..., 149 146 171]\n",
      " [ 69  69  69 ..., 166 167 188]]\n",
      "36\n",
      "36\n",
      "[[110 130 120 ..., 121 147 137]\n",
      " [127 136 126 ...,  61  99 106]\n",
      " [124 120 116 ...,  28  49  80]\n",
      " ..., \n",
      " [102 135 185 ..., 174 183 180]\n",
      " [104 145 190 ..., 167 158 147]\n",
      " [107 158 193 ..., 170 149 105]]\n",
      "36\n",
      "36\n",
      "[[ 93 105  98 ..., 137 132 120]\n",
      " [ 60 106 126 ...,  82  73  66]\n",
      " [ 39  92 114 ...,  38  35  36]\n",
      " ..., \n",
      " [ 74  75 109 ..., 145 130 128]\n",
      " [ 70  81 136 ..., 181 173 176]\n",
      " [ 68  89 151 ..., 188 184 186]]\n",
      "36\n",
      "36\n",
      "[[146 116 115 ...,  71  66  82]\n",
      " [152 134 117 ...,  51  43  53]\n",
      " [125 111  86 ...,  50  33  35]\n",
      " ..., \n",
      " [166 103 124 ..., 238 198 152]\n",
      " [147  97 127 ..., 153 105  78]\n",
      " [150  95 121 ...,  64  57  86]]\n",
      "36\n",
      "36\n",
      "[[112  96  68 ...,  59  73  85]\n",
      " [ 87  66  47 ...,  40  53  61]\n",
      " [ 75  45  40 ...,  44  51  53]\n",
      " ..., \n",
      " [175 165 156 ..., 172 154 122]\n",
      " [151 158 168 ..., 178 174 163]\n",
      " [ 95 105 113 ..., 176 177 186]]\n",
      "36\n",
      "36\n",
      "[[140 141 113 ..., 225 165  68]\n",
      " [ 79  85  67 ..., 188 150  68]\n",
      " [ 47  62  47 ..., 131 109  63]\n",
      " ..., \n",
      " [180 188 172 ..., 118 136 142]\n",
      " [197 174 145 ...,  86 112 129]\n",
      " [184 128  75 ...,  67  86 124]]\n",
      "36\n",
      "36\n",
      "[[ 81  38  55 ..., 212 167 132]\n",
      " [ 45  20  28 ..., 165 149 144]\n",
      " [ 32  26  30 ..., 135 123 124]\n",
      " ..., \n",
      " [110  71  60 ..., 168 160 197]\n",
      " [ 76  71  62 ..., 183 177 220]\n",
      " [150 129  76 ..., 188 182 219]]\n",
      "36\n",
      "36\n",
      "{'prob': array([[ 0.98890531,  0.01109473]], dtype=float32)}\n",
      "visage trouvé @ 72 , 96\n"
     ]
    },
    {
     "data": {
      "image/jpeg": "[encoded data removed]",
      "text/plain": [
       "<IPython.core.display.Image object>"
      ]
     },
     "metadata": {},
     "output_type": "display_data"
    },
    {
     "name": "stdout",
     "output_type": "stream",
     "text": [
      "[[ 61  44  33 ..., 113 123 129]\n",
      " [ 53  48  37 ..., 110 119 126]\n",
      " [ 56  55  48 ..., 120 126 128]\n",
      " ..., \n",
      " [ 73  42  39 ..., 161 169 188]\n",
      " [ 92  44  44 ..., 180 184 208]\n",
      " [113  59  59 ..., 173 174 187]]\n",
      "36\n",
      "36\n",
      "{'prob': array([[ 0.99805617,  0.00194381]], dtype=float32)}\n",
      "visage trouvé @ 72 , 108\n"
     ]
    },
    {
     "data": {
      "image/jpeg": "[encoded data removed]",
      "text/plain": [
       "<IPython.core.display.Image object>"
      ]
     },
     "metadata": {},
     "output_type": "display_data"
    },
    {
     "name": "stdout",
     "output_type": "stream",
     "text": [
      "[[ 57  63  94 ..., 115 107 116]\n",
      " [ 56  66  95 ..., 117  97 106]\n",
      " [ 54  63  95 ..., 105  97 102]\n",
      " ..., \n",
      " [150 142  96 ..., 194 207 189]\n",
      " [144 169 150 ..., 189 185 153]\n",
      " [161 178 185 ..., 171 149 132]]\n",
      "36\n",
      "36\n",
      "{'prob': array([[ 0.99760181,  0.00239815]], dtype=float32)}\n",
      "visage trouvé @ 72 , 120\n"
     ]
    },
    {
     "data": {
      "image/jpeg": "[encoded data removed]",
      "text/plain": [
       "<IPython.core.display.Image object>"
      ]
     },
     "metadata": {},
     "output_type": "display_data"
    },
    {
     "name": "stdout",
     "output_type": "stream",
     "text": [
      "[[130 136 145 ..., 131 132 123]\n",
      " [143 141 139 ..., 120 117 123]\n",
      " [127 127 124 ..., 108 108 110]\n",
      " ..., \n",
      " [181 157 196 ...,  72  73  76]\n",
      " [203 176 218 ...,  78  83  81]\n",
      " [206 181 208 ..., 100 109  88]]\n",
      "36\n",
      "36\n",
      "{'prob': array([[ 0.99673212,  0.00326792]], dtype=float32)}\n",
      "visage trouvé @ 72 , 132\n"
     ]
    },
    {
     "data": {
      "image/jpeg": "[encoded data removed]",
      "text/plain": [
       "<IPython.core.display.Image object>"
      ]
     },
     "metadata": {},
     "output_type": "display_data"
    },
    {
     "name": "stdout",
     "output_type": "stream",
     "text": [
      "[[130 131 124 ..., 132 118 119]\n",
      " [128 139 145 ..., 112 115 116]\n",
      " [130 144 156 ..., 109 119 120]\n",
      " ..., \n",
      " [141 110 123 ...,  71  54  52]\n",
      " [155 136 156 ...,  62  52  58]\n",
      " [177 176 173 ...,  59  56  63]]\n",
      "36\n",
      "36\n",
      "{'prob': array([[ 0.99766636,  0.00233366]], dtype=float32)}\n",
      "visage trouvé @ 72 , 144\n"
     ]
    },
    {
     "data": {
      "image/jpeg": "[encoded data removed]",
      "text/plain": [
       "<IPython.core.display.Image object>"
      ]
     },
     "metadata": {},
     "output_type": "display_data"
    },
    {
     "name": "stdout",
     "output_type": "stream",
     "text": [
      "[[106 106 102 ..., 140 135 165]\n",
      " [116 116 107 ..., 145 132 183]\n",
      " [112 132 120 ..., 138 120 154]\n",
      " ..., \n",
      " [151 168 159 ..., 127  98  84]\n",
      " [127 156 167 ..., 148 103  78]\n",
      " [127 170 194 ..., 142 107 106]]\n",
      "36\n",
      "36\n",
      "{'prob': array([[ 0.99812633,  0.00187363]], dtype=float32)}\n",
      "visage trouvé @ 72 , 156\n"
     ]
    },
    {
     "data": {
      "image/jpeg": "[encoded data removed]",
      "text/plain": [
       "<IPython.core.display.Image object>"
      ]
     },
     "metadata": {},
     "output_type": "display_data"
    },
    {
     "name": "stdout",
     "output_type": "stream",
     "text": [
      "[[124 112 107 ..., 164 159 143]\n",
      " [142 134 139 ..., 172 165 155]\n",
      " [133 142 131 ..., 186 160 147]\n",
      " ..., \n",
      " [ 68  67  84 ..., 179 144 137]\n",
      " [ 73  76 119 ..., 191 139 128]\n",
      " [ 81  75 121 ..., 190 150 119]]\n",
      "36\n",
      "36\n",
      "{'prob': array([[ 0.99818581,  0.00181413]], dtype=float32)}\n",
      "visage trouvé @ 72 , 168\n"
     ]
    },
    {
     "data": {
      "image/jpeg": "[encoded data removed]",
      "text/plain": [
       "<IPython.core.display.Image object>"
      ]
     },
     "metadata": {},
     "output_type": "display_data"
    },
    {
     "name": "stdout",
     "output_type": "stream",
     "text": [
      "[[118 124 150 ..., 142 140 132]\n",
      " [114 122 145 ..., 140 152 157]\n",
      " [117 115 121 ..., 152 155 160]\n",
      " ..., \n",
      " [ 62  68  73 ..., 172 183 145]\n",
      " [ 69  75  75 ..., 163 178 134]\n",
      " [ 77  88  96 ..., 157 175 143]]\n",
      "36\n",
      "36\n",
      "{'prob': array([[ 0.99588734,  0.00411272]], dtype=float32)}\n",
      "visage trouvé @ 72 , 180\n"
     ]
    },
    {
     "data": {
      "image/jpeg": "[encoded data removed]",
      "text/plain": [
       "<IPython.core.display.Image object>"
      ]
     },
     "metadata": {},
     "output_type": "display_data"
    },
    {
     "name": "stdout",
     "output_type": "stream",
     "text": [
      "[[219 217 219 ...,  93  93  91]\n",
      " [211 213 223 ...,  93  94  91]\n",
      " [222 210 218 ...,  93  94  93]\n",
      " ..., \n",
      " [222 196 128 ...,  63  57  57]\n",
      " [215 188 121 ...,  62  59  59]\n",
      " [213 186 115 ...,  65  62  61]]\n",
      "36\n",
      "36\n",
      "[[ 98  84  79 ...,  30  31  35]\n",
      " [ 96  87  81 ...,  39  31  36]\n",
      " [ 94  87  82 ...,  47  36  42]\n",
      " ..., \n",
      " [ 82  74  75 ..., 174 174 166]\n",
      " [ 80  72  73 ..., 177 178 173]\n",
      " [ 81  73  75 ..., 180 179 178]]\n",
      "36\n",
      "36\n",
      "[[ 71  67  61 ..., 137 148 142]\n",
      " [ 73  69  62 ...,  84 112 140]\n",
      " [ 75  71  65 ...,  54  61  69]\n",
      " ..., \n",
      " [ 86  87  96 ...,  99  69  66]\n",
      " [ 89  88  94 ..., 154 109  77]\n",
      " [ 91  89  94 ..., 164 150 105]]\n",
      "36\n",
      "36\n",
      "[[ 92  93  93 ..., 115 116  99]\n",
      " [ 91  92  94 ..., 127 132 122]\n",
      " [ 91  91  93 ..., 143 148 140]\n",
      " ..., \n",
      " [ 58  78 156 ...,  47  48  95]\n",
      " [ 58  75 153 ...,  48  48  94]\n",
      " [ 59  76 151 ...,  49  50  94]]\n",
      "36\n",
      "36\n",
      "[[ 25  15  13 ...,  58  51  69]\n",
      " [ 30  18  22 ...,  52  46  70]\n",
      " [ 38  28  39 ...,  49  45  70]\n",
      " ..., \n",
      " [153 158 172 ...,  67  58 117]\n",
      " [157 158 174 ...,  42  45 114]\n",
      " [169 161 171 ...,  43  47 115]]\n",
      "36\n",
      "36\n",
      "{'prob': array([[ 0.98643225,  0.01356778]], dtype=float32)}\n",
      "visage trouvé @ 84 , 48\n"
     ]
    },
    {
     "data": {
      "image/jpeg": "[encoded data removed]",
      "text/plain": [
       "<IPython.core.display.Image object>"
      ]
     },
     "metadata": {},
     "output_type": "display_data"
    },
    {
     "name": "stdout",
     "output_type": "stream",
     "text": [
      "[[133 141 143 ...,  96 123 181]\n",
      " [151 144 144 ...,  89 162 210]\n",
      " [ 84  86  98 ..., 107 152 191]\n",
      " ..., \n",
      " [145 207 208 ..., 109 103 130]\n",
      " [150 214 216 ...,  73  63 108]\n",
      " [159 220 221 ...,  47  48 101]]\n",
      "36\n",
      "36\n",
      "{'prob': array([[ 0.9977724 ,  0.00222756]], dtype=float32)}\n",
      "visage trouvé @ 84 , 60\n"
     ]
    },
    {
     "data": {
      "image/jpeg": "[encoded data removed]",
      "text/plain": [
       "<IPython.core.display.Image object>"
      ]
     },
     "metadata": {},
     "output_type": "display_data"
    },
    {
     "name": "stdout",
     "output_type": "stream",
     "text": [
      "[[ 57  43  42 ..., 117 198 206]\n",
      " [ 72  46  44 ...,  83 135 186]\n",
      " [ 90  48  45 ..., 104  87 129]\n",
      " ..., \n",
      " [192 199 211 ...,  74  95 110]\n",
      " [192 200 210 ...,  79  78 101]\n",
      " [193 200 209 ...,  95  99 121]]\n",
      "36\n",
      "36\n",
      "{'prob': array([[ 0.9982869 ,  0.00171314]], dtype=float32)}\n",
      "visage trouvé @ 84 , 72\n"
     ]
    },
    {
     "data": {
      "image/jpeg": "[encoded data removed]",
      "text/plain": [
       "<IPython.core.display.Image object>"
      ]
     },
     "metadata": {},
     "output_type": "display_data"
    },
    {
     "name": "stdout",
     "output_type": "stream",
     "text": [
      "[[102 121 124 ..., 220 216 171]\n",
      " [104 144 140 ..., 196 189 155]\n",
      " [112 163 150 ..., 187 188 164]\n",
      " ..., \n",
      " [194 191 212 ..., 122 130 144]\n",
      " [195 193 211 ..., 140 157 192]\n",
      " [196 194 209 ...,  85 109 162]]\n",
      "36\n",
      "36\n",
      "{'prob': array([[ 0.99878842,  0.00121159]], dtype=float32)}\n",
      "visage trouvé @ 84 , 84\n"
     ]
    },
    {
     "data": {
      "image/jpeg": "[encoded data removed]",
      "text/plain": [
       "<IPython.core.display.Image object>"
      ]
     },
     "metadata": {},
     "output_type": "display_data"
    },
    {
     "name": "stdout",
     "output_type": "stream",
     "text": [
      "[[ 94  57 133 ..., 202 204 212]\n",
      " [115  62 130 ..., 185 188 200]\n",
      " [138  67 111 ..., 213 205 169]\n",
      " ..., \n",
      " [194 194 200 ..., 164 148 146]\n",
      " [192 195 202 ..., 199 165 165]\n",
      " [193 196 196 ..., 189 174 196]]\n",
      "36\n",
      "36\n",
      "{'prob': array([[ 0.99860018,  0.00139985]], dtype=float32)}\n",
      "visage trouvé @ 84 , 96\n"
     ]
    },
    {
     "data": {
      "image/jpeg": "[encoded data removed]",
      "text/plain": [
       "<IPython.core.display.Image object>"
      ]
     },
     "metadata": {},
     "output_type": "display_data"
    },
    {
     "name": "stdout",
     "output_type": "stream",
     "text": [
      "[[ 96  39  47 ..., 227 223 212]\n",
      " [107  43  48 ..., 224 226 224]\n",
      " [127  59  56 ..., 216 224 224]\n",
      " ..., \n",
      " [187 203 191 ...,  73 107  79]\n",
      " [187 203 192 ..., 115 108  96]\n",
      " [192 205 190 ..., 114 101 107]]\n",
      "36\n",
      "36\n",
      "{'prob': array([[ 0.99804074,  0.00195928]], dtype=float32)}\n",
      "visage trouvé @ 84 , 108\n"
     ]
    },
    {
     "data": {
      "image/jpeg": "[encoded data removed]",
      "text/plain": [
       "<IPython.core.display.Image object>"
      ]
     },
     "metadata": {},
     "output_type": "display_data"
    },
    {
     "name": "stdout",
     "output_type": "stream",
     "text": [
      "[[ 82  59  63 ..., 141 132 115]\n",
      " [ 83  66  67 ..., 178 143 118]\n",
      " [ 89  68  67 ..., 146 128 122]\n",
      " ..., \n",
      " [189 199 181 ..., 125  90  84]\n",
      " [210 201 181 ..., 101  87  89]\n",
      " [205 200 179 ...,  86  98 124]]\n",
      "36\n",
      "36\n",
      "{'prob': array([[ 0.9989562,  0.0010438]], dtype=float32)}\n",
      "visage trouvé @ 84 , 120\n"
     ]
    },
    {
     "data": {
      "image/jpeg": "[encoded data removed]",
      "text/plain": [
       "<IPython.core.display.Image object>"
      ]
     },
     "metadata": {},
     "output_type": "display_data"
    },
    {
     "name": "stdout",
     "output_type": "stream",
     "text": [
      "[[217 217 219 ..., 107 112 140]\n",
      " [203 204 204 ..., 101 110 146]\n",
      " [153 155 154 ..., 104 129 166]\n",
      " ..., \n",
      " [188 198 177 ..., 173 171 122]\n",
      " [198 201 180 ..., 183 181 122]\n",
      " [221 204 181 ..., 198 197 135]]\n",
      "36\n",
      "36\n",
      "{'prob': array([[ 0.99797302,  0.00202701]], dtype=float32)}\n",
      "visage trouvé @ 84 , 132\n"
     ]
    },
    {
     "data": {
      "image/jpeg": "[encoded data removed]",
      "text/plain": [
       "<IPython.core.display.Image object>"
      ]
     },
     "metadata": {},
     "output_type": "display_data"
    },
    {
     "name": "stdout",
     "output_type": "stream",
     "text": [
      "[[198 176 157 ..., 119 119 114]\n",
      " [212 203 181 ...,  89  98 104]\n",
      " [220 216 199 ...,  78 100 106]\n",
      " ..., \n",
      " [ 64 140 196 ...,  66  57  51]\n",
      " [107 162 198 ...,  70  59  57]\n",
      " [126 160 196 ..., 106  94  94]]\n",
      "36\n",
      "36\n",
      "{'prob': array([[ 0.99829203,  0.00170792]], dtype=float32)}\n",
      "visage trouvé @ 84 , 144\n"
     ]
    },
    {
     "data": {
      "image/jpeg": "[encoded data removed]",
      "text/plain": [
       "<IPython.core.display.Image object>"
      ]
     },
     "metadata": {},
     "output_type": "display_data"
    },
    {
     "name": "stdout",
     "output_type": "stream",
     "text": [
      "[[121 111 114 ..., 113 140 164]\n",
      " [116 125 126 ..., 144 134 140]\n",
      " [125 139 120 ..., 150 139 121]\n",
      " ..., \n",
      " [105 109 154 ..., 168  92  77]\n",
      " [ 98  94 145 ..., 171 101  78]\n",
      " [115  93 144 ..., 192 141 125]]\n",
      "36\n",
      "36\n",
      "{'prob': array([[ 0.99786782,  0.00213217]], dtype=float32)}\n",
      "visage trouvé @ 84 , 156\n"
     ]
    },
    {
     "data": {
      "image/jpeg": "[encoded data removed]",
      "text/plain": [
       "<IPython.core.display.Image object>"
      ]
     },
     "metadata": {},
     "output_type": "display_data"
    },
    {
     "name": "stdout",
     "output_type": "stream",
     "text": [
      "[[172 153 140 ..., 145 108  98]\n",
      " [189 191 176 ..., 122 105 120]\n",
      " [171 152 143 ..., 132 119 133]\n",
      " ..., \n",
      " [ 81  77 116 ..., 175 166 118]\n",
      " [ 70  65 100 ..., 166 168 117]\n",
      " [ 86  87  98 ..., 158 185 169]]\n",
      "36\n",
      "36\n",
      "{'prob': array([[ 0.99732542,  0.00267457]], dtype=float32)}\n",
      "visage trouvé @ 84 , 168\n"
     ]
    },
    {
     "data": {
      "image/jpeg": "[encoded data removed]",
      "text/plain": [
       "<IPython.core.display.Image object>"
      ]
     },
     "metadata": {},
     "output_type": "display_data"
    },
    {
     "name": "stdout",
     "output_type": "stream",
     "text": [
      "[[109 122 147 ..., 186 160 136]\n",
      " [107 124 137 ..., 165 171 186]\n",
      " [102 107 126 ..., 156 160 191]\n",
      " ..., \n",
      " [ 55  66  59 ..., 164 162 190]\n",
      " [ 54  48  50 ..., 161 156 192]\n",
      " [ 94  88  97 ..., 156 150 191]]\n",
      "36\n",
      "36\n",
      "{'prob': array([[ 0.99859959,  0.00140042]], dtype=float32)}\n",
      "visage trouvé @ 84 , 180\n"
     ]
    },
    {
     "data": {
      "image/jpeg": "[encoded data removed]",
      "text/plain": [
       "<IPython.core.display.Image object>"
      ]
     },
     "metadata": {},
     "output_type": "display_data"
    },
    {
     "name": "stdout",
     "output_type": "stream",
     "text": [
      "[[208 192 206 ..., 112 130 130]\n",
      " [186 177 200 ..., 149 151 139]\n",
      " [165 167 198 ..., 129 116 117]\n",
      " ..., \n",
      " [124  98  84 ..., 106 115 161]\n",
      " [136 103  85 ..., 106 115 161]\n",
      " [140 108  86 ..., 106 118 170]]\n",
      "36\n",
      "36\n",
      "[[ 73  71  70 ..., 126 130 135]\n",
      " [ 72  70  70 ..., 124 117 117]\n",
      " [ 72  70  67 ...,  65  72  85]\n",
      " ..., \n",
      " [ 78  75  78 ..., 242 246 251]\n",
      " [ 79  76  77 ..., 235 239 249]\n",
      " [ 78  77  76 ..., 232 237 247]]\n",
      "36\n",
      "36\n",
      "[[103 121 148 ...,  66 108 147]\n",
      " [120 153 161 ..., 120 130 139]\n",
      " [ 95 126 118 ..., 172 157 132]\n",
      " ..., \n",
      " [ 82  85  90 ..., 243 249 251]\n",
      " [ 80  84  88 ..., 238 246 250]\n",
      " [ 80  83  88 ..., 232 246 250]]\n",
      "36\n",
      "36\n",
      "{'prob': array([[ 0.98632115,  0.01367885]], dtype=float32)}\n",
      "visage trouvé @ 96 , 24\n"
     ]
    },
    {
     "data": {
      "image/jpeg": "[encoded data removed]",
      "text/plain": [
       "<IPython.core.display.Image object>"
      ]
     },
     "metadata": {},
     "output_type": "display_data"
    },
    {
     "name": "stdout",
     "output_type": "stream",
     "text": [
      "[[108  76  83 ...,  37  54  31]\n",
      " [133 111 120 ...,  30  38  21]\n",
      " [137 130 103 ...,  30  40  28]\n",
      " ..., \n",
      " [204 221 245 ...,  57  54  96]\n",
      " [205 229 249 ...,  57  58 112]\n",
      " [211 237 250 ...,  59  75 143]]\n",
      "36\n",
      "36\n",
      "{'prob': array([[ 0.99783176,  0.00216829]], dtype=float32)}\n",
      "visage trouvé @ 96 , 36\n"
     ]
    },
    {
     "data": {
      "image/jpeg": "[encoded data removed]",
      "text/plain": [
       "<IPython.core.display.Image object>"
      ]
     },
     "metadata": {},
     "output_type": "display_data"
    },
    {
     "name": "stdout",
     "output_type": "stream",
     "text": [
      "[[130 134 138 ...,  20  17  25]\n",
      " [123 126 132 ...,  15  16  22]\n",
      " [ 97 109 122 ...,  21  24  28]\n",
      " ..., \n",
      " [254 255 254 ...,  66 132 214]\n",
      " [253 254 252 ...,  55  76 151]\n",
      " [252 253 244 ...,  52  50 101]]\n",
      "36\n",
      "36\n",
      "{'prob': array([[ 0.99727064,  0.00272934]], dtype=float32)}\n",
      "visage trouvé @ 96 , 48\n"
     ]
    },
    {
     "data": {
      "image/jpeg": "[encoded data removed]",
      "text/plain": [
       "<IPython.core.display.Image object>"
      ]
     },
     "metadata": {},
     "output_type": "display_data"
    },
    {
     "name": "stdout",
     "output_type": "stream",
     "text": [
      "[[137 133 132 ..., 118 109 115]\n",
      " [113 105  90 ...,  74  62  72]\n",
      " [ 83  63  48 ...,  50  56  61]\n",
      " ..., \n",
      " [249 252 245 ..., 219 171 132]\n",
      " [249 252 243 ..., 221 160 123]\n",
      " [249 253 243 ..., 196 140 111]]\n",
      "36\n",
      "36\n",
      "{'prob': array([[ 0.98540151,  0.01459846]], dtype=float32)}\n",
      "visage trouvé @ 96 , 60\n"
     ]
    },
    {
     "data": {
      "image/jpeg": "[encoded data removed]",
      "text/plain": [
       "<IPython.core.display.Image object>"
      ]
     },
     "metadata": {},
     "output_type": "display_data"
    },
    {
     "name": "stdout",
     "output_type": "stream",
     "text": [
      "[[ 27  27  30 ...,  82 100 101]\n",
      " [ 18  19  21 ...,  63  77  86]\n",
      " [ 25  27  28 ...,  61  65  70]\n",
      " ..., \n",
      " [193 208 209 ...,  40  38  71]\n",
      " [200 209 208 ...,  37  35  69]\n",
      " [207 211 207 ...,  42  38  72]]\n",
      "36\n",
      "36\n",
      "{'prob': array([[ 0.99437863,  0.0056214 ]], dtype=float32)}\n",
      "visage trouvé @ 96 , 72\n"
     ]
    },
    {
     "data": {
      "image/jpeg": "[encoded data removed]",
      "text/plain": [
       "<IPython.core.display.Image object>"
      ]
     },
     "metadata": {},
     "output_type": "display_data"
    },
    {
     "name": "stdout",
     "output_type": "stream",
     "text": [
      "[[ 39  28  23 ..., 131 108  77]\n",
      " [ 28  21  18 ..., 160 164 110]\n",
      " [ 34  31  29 ..., 138 177 147]\n",
      " ..., \n",
      " [218 203 212 ...,  40  41  50]\n",
      " [205 203 209 ...,  37  36  46]\n",
      " [192 204 203 ...,  40  33  41]]\n",
      "36\n",
      "36\n",
      "[[ 84 108 100 ..., 188 205 225]\n",
      " [ 52  76  77 ..., 219 230 232]\n",
      " [ 44  40  46 ..., 223 233 234]\n",
      " ..., \n",
      " [192 212 217 ...,  95  39  40]\n",
      " [193 214 218 ...,  95  31  28]\n",
      " [192 213 214 ...,  95  31  27]]\n",
      "36\n",
      "36\n",
      "[[ 81 104  87 ..., 234 234 233]\n",
      " [ 76  97  78 ..., 233 234 234]\n",
      " [ 59  73  62 ..., 233 233 233]\n",
      " ..., \n",
      " [170 205 190 ...,  28  44  41]\n",
      " [170 205 194 ...,  30  48  42]\n",
      " [172 206 193 ...,  33  48  37]]\n",
      "36\n",
      "36\n",
      "{'prob': array([[ 0.98145837,  0.01854162]], dtype=float32)}\n",
      "visage trouvé @ 96 , 108\n"
     ]
    },
    {
     "data": {
      "image/jpeg": "[encoded data removed]",
      "text/plain": [
       "<IPython.core.display.Image object>"
      ]
     },
     "metadata": {},
     "output_type": "display_data"
    },
    {
     "name": "stdout",
     "output_type": "stream",
     "text": [
      "[[ 68  68  72 ..., 124 112 119]\n",
      " [ 68  65  72 ..., 126 127 138]\n",
      " [ 92  69  72 ..., 130 153 169]\n",
      " ..., \n",
      " [142 197 178 ...,  63  49  44]\n",
      " [138 198 181 ...,  60  59  55]\n",
      " [134 199 184 ...,  51  54  55]]\n",
      "36\n",
      "36\n",
      "{'prob': array([[ 0.99667764,  0.0033224 ]], dtype=float32)}\n",
      "visage trouvé @ 96 , 120\n"
     ]
    },
    {
     "data": {
      "image/jpeg": "[encoded data removed]",
      "text/plain": [
       "<IPython.core.display.Image object>"
      ]
     },
     "metadata": {},
     "output_type": "display_data"
    },
    {
     "name": "stdout",
     "output_type": "stream",
     "text": [
      "[[233 233 233 ..., 103 109 111]\n",
      " [233 233 233 ...,  89 106 123]\n",
      " [233 233 233 ..., 106 123 115]\n",
      " ..., \n",
      " [109 191 192 ..., 137 149 131]\n",
      " [ 91 186 194 ..., 137 147 130]\n",
      " [ 79 178 194 ..., 136 146 130]]\n",
      "36\n",
      "36\n",
      "{'prob': array([[ 0.99667728,  0.00332269]], dtype=float32)}\n",
      "visage trouvé @ 96 , 132\n"
     ]
    },
    {
     "data": {
      "image/jpeg": "[encoded data removed]",
      "text/plain": [
       "<IPython.core.display.Image object>"
      ]
     },
     "metadata": {},
     "output_type": "display_data"
    },
    {
     "name": "stdout",
     "output_type": "stream",
     "text": [
      "[[233 231 224 ..., 119 126 104]\n",
      " [229 213 220 ...,  90 106 105]\n",
      " [221 204 224 ...,  89 119 110]\n",
      " ..., \n",
      " [ 31  74 176 ..., 102  72  77]\n",
      " [ 34  71 175 ..., 103  67  63]\n",
      " [ 31  69 174 ..., 105  65  68]]\n",
      "36\n",
      "36\n",
      "{'prob': array([[ 0.99580979,  0.00419019]], dtype=float32)}\n",
      "visage trouvé @ 96 , 144\n"
     ]
    },
    {
     "data": {
      "image/jpeg": "[encoded data removed]",
      "text/plain": [
       "<IPython.core.display.Image object>"
      ]
     },
     "metadata": {},
     "output_type": "display_data"
    },
    {
     "name": "stdout",
     "output_type": "stream",
     "text": [
      "[[124 124 119 ...,  92  78  77]\n",
      " [125 126 132 ...,  84  87  91]\n",
      " [150 136 119 ...,  69  85 100]\n",
      " ..., \n",
      " [ 41  48  69 ..., 161  72  46]\n",
      " [ 49  51  67 ..., 163  78  62]\n",
      " [ 55  58  66 ..., 164  88  75]]\n",
      "36\n",
      "36\n",
      "{'prob': array([[ 0.99556905,  0.00443098]], dtype=float32)}\n",
      "visage trouvé @ 96 , 156\n"
     ]
    },
    {
     "data": {
      "image/jpeg": "[encoded data removed]",
      "text/plain": [
       "<IPython.core.display.Image object>"
      ]
     },
     "metadata": {},
     "output_type": "display_data"
    },
    {
     "name": "stdout",
     "output_type": "stream",
     "text": [
      "[[ 94  94  96 ...,  72  90 146]\n",
      " [102 105  97 ..., 100 109 152]\n",
      " [116 121 108 ..., 140 143 156]\n",
      " ..., \n",
      " [ 64  94 126 ..., 158 153 123]\n",
      " [ 57  60  94 ..., 154 150 130]\n",
      " [ 53  48  93 ..., 154 149 130]]\n",
      "36\n",
      "36\n",
      "{'prob': array([[ 0.99294126,  0.00705877]], dtype=float32)}\n",
      "visage trouvé @ 96 , 168\n"
     ]
    },
    {
     "data": {
      "image/jpeg": "[encoded data removed]",
      "text/plain": [
       "<IPython.core.display.Image object>"
      ]
     },
     "metadata": {},
     "output_type": "display_data"
    },
    {
     "name": "stdout",
     "output_type": "stream",
     "text": [
      "[[ 92  92 103 ..., 217 215 209]\n",
      " [106  99 105 ..., 223 216 197]\n",
      " [110 104 107 ..., 228 215 210]\n",
      " ..., \n",
      " [ 76  70 102 ..., 173 162 160]\n",
      " [ 71  79  75 ..., 178 164 157]\n",
      " [101 128  96 ..., 181 165 154]]\n",
      "36\n",
      "36\n",
      "{'prob': array([[ 0.99713182,  0.00286815]], dtype=float32)}\n",
      "visage trouvé @ 96 , 180\n"
     ]
    },
    {
     "data": {
      "image/jpeg": "[encoded data removed]",
      "text/plain": [
       "<IPython.core.display.Image object>"
      ]
     },
     "metadata": {},
     "output_type": "display_data"
    },
    {
     "name": "stdout",
     "output_type": "stream",
     "text": [
      "[[190 171 177 ...,  87  90  94]\n",
      " [207 182 177 ...,  89  91  95]\n",
      " [211 190 176 ...,  90  92  97]\n",
      " ..., \n",
      " [102  89  79 ...,  74 102 167]\n",
      " [ 93  83  74 ...,  67 106 169]\n",
      " [ 85  77  70 ...,  69 111 171]]\n",
      "36\n",
      "36\n",
      "{'prob': array([[ 0.99681795,  0.00318201]], dtype=float32)}\n",
      "visage trouvé @ 108 , 0\n"
     ]
    },
    {
     "data": {
      "image/jpeg": "[encoded data removed]",
      "text/plain": [
       "<IPython.core.display.Image object>"
      ]
     },
     "metadata": {},
     "output_type": "display_data"
    },
    {
     "name": "stdout",
     "output_type": "stream",
     "text": [
      "[[ 71  63  63 ...,  49  58  65]\n",
      " [ 76  66  66 ...,  49  60  62]\n",
      " [ 78  68  68 ...,  50  56  62]\n",
      " ..., \n",
      " [ 69  69  70 ..., 134 157 199]\n",
      " [ 73  71  69 ..., 166 208 218]\n",
      " [ 76  71  69 ..., 227 245 227]]\n",
      "36\n",
      "36\n",
      "{'prob': array([[ 0.99557292,  0.00442701]], dtype=float32)}\n",
      "visage trouvé @ 108 , 12\n"
     ]
    },
    {
     "data": {
      "image/jpeg": "[encoded data removed]",
      "text/plain": [
       "<IPython.core.display.Image object>"
      ]
     },
     "metadata": {},
     "output_type": "display_data"
    },
    {
     "name": "stdout",
     "output_type": "stream",
     "text": [
      "[[ 70  67  71 ..., 226 228 236]\n",
      " [ 71  68  75 ..., 232 237 240]\n",
      " [ 72  69  77 ..., 224 219 224]\n",
      " ..., \n",
      " [ 59  53  53 ..., 246 242 231]\n",
      " [ 42  39  43 ..., 250 247 234]\n",
      " [ 38  38  42 ..., 252 249 234]]\n",
      "36\n",
      "36\n",
      "{'prob': array([[ 0.99278659,  0.00721334]], dtype=float32)}\n",
      "visage trouvé @ 108 , 24\n"
     ]
    },
    {
     "data": {
      "image/jpeg": "[encoded data removed]",
      "text/plain": [
       "<IPython.core.display.Image object>"
      ]
     },
     "metadata": {},
     "output_type": "display_data"
    },
    {
     "name": "stdout",
     "output_type": "stream",
     "text": [
      "[[111 165 183 ..., 170 154 124]\n",
      " [114 162 167 ..., 160 151 153]\n",
      " [119 173 182 ..., 145 142 162]\n",
      " ..., \n",
      " [181 194 223 ...,  62  62  78]\n",
      " [179 191 220 ...,  55  56  70]\n",
      " [178 192 221 ...,  52  51  64]]\n",
      "36\n",
      "36\n",
      "{'prob': array([[ 0.99563462,  0.00436543]], dtype=float32)}\n",
      "visage trouvé @ 108 , 36\n"
     ]
    },
    {
     "data": {
      "image/jpeg": "[encoded data removed]",
      "text/plain": [
       "<IPython.core.display.Image object>"
      ]
     },
     "metadata": {},
     "output_type": "display_data"
    },
    {
     "name": "stdout",
     "output_type": "stream",
     "text": [
      "[[ 72 113 170 ..., 167 150 172]\n",
      " [ 65 102 172 ..., 156 126 163]\n",
      " [ 61  78 162 ..., 104  84 142]\n",
      " ..., \n",
      " [220 199 188 ...,  58  57  80]\n",
      " [210 192 179 ...,  50  49  74]\n",
      " [196 195 194 ...,  41  42  65]]\n",
      "36\n",
      "36\n",
      "{'prob': array([[ 0.98292577,  0.01707425]], dtype=float32)}\n",
      "visage trouvé @ 108 , 48\n"
     ]
    },
    {
     "data": {
      "image/jpeg": "[encoded data removed]",
      "text/plain": [
       "<IPython.core.display.Image object>"
      ]
     },
     "metadata": {},
     "output_type": "display_data"
    },
    {
     "name": "stdout",
     "output_type": "stream",
     "text": [
      "[[173  99 129 ...,  48  47  98]\n",
      " [170 112 164 ...,  79  68 115]\n",
      " [169 160 202 ..., 186 166 171]\n",
      " ..., \n",
      " [220 200 181 ...,  55  58  90]\n",
      " [221 204 185 ...,  46  47  81]\n",
      " [221 209 190 ...,  34  35  75]]\n",
      "36\n",
      "36\n",
      "[[131 151 152 ..., 179 178 196]\n",
      " [183 187 206 ..., 199 198 210]\n",
      " [197 192 216 ..., 199 205 211]\n",
      " ..., \n",
      " [163 207 195 ...,  43  50  69]\n",
      " [159 207 195 ...,  33  41  62]\n",
      " [156 207 194 ...,  29  32  53]]\n",
      "36\n",
      "36\n",
      "[[187 154 136 ...,  63  68 108]\n",
      " [195 188 208 ...,  77  61  94]\n",
      " [197 189 210 ..., 114  66  87]\n",
      " ..., \n",
      " [173 205 193 ...,  80  41  58]\n",
      " [171 207 193 ...,  84  35  56]\n",
      " [168 208 193 ...,  70  37  74]]\n",
      "36\n",
      "36\n",
      "[[188 179 148 ..., 190 184 215]\n",
      " [191 197 204 ..., 192 186 214]\n",
      " [204 203 211 ..., 192 187 207]\n",
      " ..., \n",
      " [186 214 197 ...,  30  19  32]\n",
      " [183 215 201 ...,  24  15  30]\n",
      " [181 216 203 ...,  25  16  25]]\n",
      "36\n",
      "36\n",
      "[[168 142 145 ..., 160 158 173]\n",
      " [208 193 192 ..., 153 155 165]\n",
      " [212 195 192 ..., 133 143 148]\n",
      " ..., \n",
      " [165 209 191 ..., 184 173 165]\n",
      " [162 209 190 ..., 143 141 151]\n",
      " [158 208 190 ...,  96  76  95]]\n",
      "36\n",
      "36\n",
      "{'prob': array([[ 0.98678684,  0.01321318]], dtype=float32)}\n",
      "visage trouvé @ 108 , 108\n"
     ]
    },
    {
     "data": {
      "image/jpeg": "[encoded data removed]",
      "text/plain": [
       "<IPython.core.display.Image object>"
      ]
     },
     "metadata": {},
     "output_type": "display_data"
    },
    {
     "name": "stdout",
     "output_type": "stream",
     "text": [
      "[[178 183 182 ..., 152 132 140]\n",
      " [178 181 182 ..., 150 145 158]\n",
      " [176 185 185 ..., 139 134 174]\n",
      " ..., \n",
      " [143 196 192 ...,  58  54  43]\n",
      " [148 197 190 ...,  59  53  47]\n",
      " [162 199 190 ...,  65  72  62]]\n",
      "36\n",
      "36\n",
      "[[203 182 181 ..., 138 118  86]\n",
      " [207 187 173 ..., 128 100  77]\n",
      " [206 187 176 ...,  91  85  73]\n",
      " ..., \n",
      " [ 74 167 199 ..., 160 160 157]\n",
      " [ 76 169 199 ..., 159 162 158]\n",
      " [ 68 166 198 ..., 153 156 155]]\n",
      "36\n",
      "36\n",
      "[[192 201 186 ...,  53  52  59]\n",
      " [183 202 192 ...,  57  51  53]\n",
      " [156 192 194 ...,  62  54  50]\n",
      " ..., \n",
      " [133 107 157 ..., 127  69  64]\n",
      " [153 122 152 ..., 114  53  49]\n",
      " [114 104 147 ..., 119  69  63]]\n",
      "36\n",
      "36\n",
      "[[157 178 201 ..., 129 102 142]\n",
      " [179 176 198 ..., 131  91 121]\n",
      " [193 173 193 ..., 144 117 125]\n",
      " ..., \n",
      " [ 55  75  62 ..., 151 130 116]\n",
      " [ 61  69  63 ..., 151 126 108]\n",
      " [ 77  61  48 ..., 153 117  93]]\n",
      "36\n",
      "36\n",
      "[[ 87  87 130 ..., 190 161 129]\n",
      " [ 81  91 131 ..., 191 152 117]\n",
      " [ 76  84 123 ..., 184 155 118]\n",
      " ..., \n",
      " [105  71  75 ..., 168 157 142]\n",
      " [101  69  75 ..., 168 157 144]\n",
      " [103  66  70 ..., 165 155 147]]\n",
      "36\n",
      "36\n",
      "[[ 79 106 114 ..., 154 171 143]\n",
      " [ 69  96 105 ..., 153 173 147]\n",
      " [ 63  95 106 ..., 153 178 166]\n",
      " ..., \n",
      " [ 72  62  45 ..., 178 174 170]\n",
      " [ 62  50  37 ..., 180 177 169]\n",
      " [ 62  52  43 ..., 177 175 168]]\n",
      "36\n",
      "36\n",
      "76\n"
     ]
    },
    {
     "data": {
      "image/jpeg": "[encoded data removed]",
      "text/plain": [
       "<IPython.core.display.Image object>"
      ]
     },
     "metadata": {},
     "output_type": "display_data"
    },
    {
     "name": "stdout",
     "output_type": "stream",
     "text": [
      "[[245 240 237 ..., 150 183 194]\n",
      " [246 242 236 ..., 161 185 186]\n",
      " [245 244 239 ..., 166 184 192]\n",
      " ..., \n",
      " [242 245 247 ...,  77  64  34]\n",
      " [238 239 245 ..., 153 130  58]\n",
      " [244 241 243 ..., 140 128 102]]\n",
      "36\n",
      "36\n",
      "{'prob': array([[ 0.99647874,  0.00352131]], dtype=float32)}\n",
      "visage trouvé @ 0 , 0\n"
     ]
    },
    {
     "data": {
      "image/jpeg": "[encoded data removed]",
      "text/plain": [
       "<IPython.core.display.Image object>"
      ]
     },
     "metadata": {},
     "output_type": "display_data"
    },
    {
     "name": "stdout",
     "output_type": "stream",
     "text": [
      "[[176 178 189 ..., 173 168 166]\n",
      " [178 172 181 ..., 164 156 169]\n",
      " [185 180 177 ..., 146 149 177]\n",
      " ..., \n",
      " [ 61  64  70 ..., 100  76  66]\n",
      " [ 63  66  71 ..., 136  80  58]\n",
      " [ 63  67  73 ..., 126  90  82]]\n",
      "36\n",
      "36\n",
      "{'prob': array([[ 0.99576026,  0.00423976]], dtype=float32)}\n",
      "visage trouvé @ 0 , 12\n"
     ]
    },
    {
     "data": {
      "image/jpeg": "[encoded data removed]",
      "text/plain": [
       "<IPython.core.display.Image object>"
      ]
     },
     "metadata": {},
     "output_type": "display_data"
    },
    {
     "name": "stdout",
     "output_type": "stream",
     "text": [
      "[[184 167 153 ..., 189 167 160]\n",
      " [198 191 175 ..., 194 184 169]\n",
      " [207 200 184 ..., 189 190 173]\n",
      " ..., \n",
      " [ 39  32  26 ..., 127 147  97]\n",
      " [ 33  25  22 ..., 142 143  95]\n",
      " [ 44  42  37 ..., 121 142 113]]\n",
      "36\n",
      "36\n",
      "{'prob': array([[ 0.99625862,  0.00374146]], dtype=float32)}\n",
      "visage trouvé @ 0 , 24\n"
     ]
    },
    {
     "data": {
      "image/jpeg": "[encoded data removed]",
      "text/plain": [
       "<IPython.core.display.Image object>"
      ]
     },
     "metadata": {},
     "output_type": "display_data"
    },
    {
     "name": "stdout",
     "output_type": "stream",
     "text": [
      "[[166 131 142 ..., 185 179 183]\n",
      " [159 134 126 ..., 190 180 187]\n",
      " [186 165 137 ..., 191 176 178]\n",
      " ..., \n",
      " [ 42  64  73 ..., 120 136 142]\n",
      " [ 72 124 132 ...,  99 116 127]\n",
      " [105 122 146 ...,  97 107 112]]\n",
      "36\n",
      "36\n",
      "{'prob': array([[ 0.99734867,  0.00265135]], dtype=float32)}\n",
      "visage trouvé @ 0 , 36\n"
     ]
    },
    {
     "data": {
      "image/jpeg": "[encoded data removed]",
      "text/plain": [
       "<IPython.core.display.Image object>"
      ]
     },
     "metadata": {},
     "output_type": "display_data"
    },
    {
     "name": "stdout",
     "output_type": "stream",
     "text": [
      "[[182 198 195 ..., 165 156 164]\n",
      " [187 197 193 ..., 181 178 178]\n",
      " [189 189 191 ..., 186 191 191]\n",
      " ..., \n",
      " [ 63  58  65 ..., 152 144 127]\n",
      " [ 53  68  87 ..., 146 152 130]\n",
      " [ 71  88 115 ..., 145 144 129]]\n",
      "36\n",
      "36\n",
      "{'prob': array([[ 0.99716836,  0.00283163]], dtype=float32)}\n",
      "visage trouvé @ 0 , 48\n"
     ]
    },
    {
     "data": {
      "image/jpeg": "[encoded data removed]",
      "text/plain": [
       "<IPython.core.display.Image object>"
      ]
     },
     "metadata": {},
     "output_type": "display_data"
    },
    {
     "name": "stdout",
     "output_type": "stream",
     "text": [
      "[[156 151 163 ..., 172 178 182]\n",
      " [162 164 173 ..., 175 178 176]\n",
      " [162 167 181 ..., 181 177 173]\n",
      " ..., \n",
      " [ 68  86 101 ..., 169 184 168]\n",
      " [ 66  89 102 ..., 176 204 194]\n",
      " [ 66  87 102 ..., 185 194 179]]\n",
      "36\n",
      "36\n",
      "{'prob': array([[ 0.99778134,  0.00221867]], dtype=float32)}\n",
      "visage trouvé @ 0 , 60\n"
     ]
    },
    {
     "data": {
      "image/jpeg": "[encoded data removed]",
      "text/plain": [
       "<IPython.core.display.Image object>"
      ]
     },
     "metadata": {},
     "output_type": "display_data"
    },
    {
     "name": "stdout",
     "output_type": "stream",
     "text": [
      "[[182 178 175 ..., 139 129 130]\n",
      " [183 182 183 ..., 142 143 142]\n",
      " [176 177 176 ..., 127 131 136]\n",
      " ..., \n",
      " [144 143 135 ..., 152 154 146]\n",
      " [130 137 133 ..., 157 162 143]\n",
      " [116 125 125 ..., 152 140 128]]\n",
      "36\n",
      "36\n",
      "{'prob': array([[ 0.99778134,  0.00221867]], dtype=float32)}\n",
      "visage trouvé @ 0 , 72\n"
     ]
    },
    {
     "data": {
      "image/jpeg": "[encoded data removed]",
      "text/plain": [
       "<IPython.core.display.Image object>"
      ]
     },
     "metadata": {},
     "output_type": "display_data"
    },
    {
     "name": "stdout",
     "output_type": "stream",
     "text": [
      "[[202 194 159 ...,  72  79  76]\n",
      " [220 202 165 ..., 121 118 107]\n",
      " [238 232 217 ...,  58  49  43]\n",
      " ..., \n",
      " [209 225 240 ...,  46  46  49]\n",
      " [204 220 235 ...,  41  35  38]\n",
      " [212 219 230 ...,  49  42  46]]\n",
      "36\n",
      "36\n",
      "{'prob': array([[ 0.99590355,  0.00409648]], dtype=float32)}\n",
      "visage trouvé @ 12 , 0\n"
     ]
    },
    {
     "data": {
      "image/jpeg": "[encoded data removed]",
      "text/plain": [
       "<IPython.core.display.Image object>"
      ]
     },
     "metadata": {},
     "output_type": "display_data"
    },
    {
     "name": "stdout",
     "output_type": "stream",
     "text": [
      "[[236 242 244 ...,  71  80  84]\n",
      " [236 236 240 ...,  29  31  43]\n",
      " [244 240 238 ...,  24  26  29]\n",
      " ..., \n",
      " [ 73  73  78 ..., 108 186 213]\n",
      " [ 73  71  70 ..., 116 173 162]\n",
      " [ 73  67  57 ...,  68  92  93]]\n",
      "36\n",
      "36\n",
      "[[177 153  97 ...,  31  36  76]\n",
      " [136 124 112 ...,  39  47  82]\n",
      " [ 58  56  64 ...,  52  52  81]\n",
      " ..., \n",
      " [ 44  46  43 ..., 137 126 153]\n",
      " [ 41  43  45 ..., 161 144 157]\n",
      " [ 58  60  48 ..., 147 153 120]]\n",
      "36\n",
      "36\n",
      "[[ 78  74  63 ..., 162 148 133]\n",
      " [ 92  83  57 ..., 158 154 143]\n",
      " [ 40  40  29 ..., 163 164 159]\n",
      " ..., \n",
      " [ 50  46  64 ..., 207 213 215]\n",
      " [ 48  52  63 ..., 228 228 228]\n",
      " [ 61  76  97 ..., 232 233 233]]\n",
      "36\n",
      "36\n",
      "[[ 72  81  98 ..., 164 205 212]\n",
      " [ 42  38  48 ..., 167 188 196]\n",
      " [ 27  23  26 ..., 193 189 188]\n",
      " ..., \n",
      " [135  70 100 ..., 106 119 121]\n",
      " [103  68  97 ..., 106 107 121]\n",
      " [ 85 105 115 ..., 108 106 113]]\n",
      "36\n",
      "36\n",
      "{'prob': array([[ 0.99540293,  0.00459707]], dtype=float32)}\n",
      "visage trouvé @ 12 , 48\n"
     ]
    },
    {
     "data": {
      "image/jpeg": "[encoded data removed]",
      "text/plain": [
       "<IPython.core.display.Image object>"
      ]
     },
     "metadata": {},
     "output_type": "display_data"
    },
    {
     "name": "stdout",
     "output_type": "stream",
     "text": [
      "[[ 94  99 113 ..., 199 208 209]\n",
      " [ 96  88 102 ..., 203 205 199]\n",
      " [116  96  96 ..., 204 212 204]\n",
      " ..., \n",
      " [112  77 120 ..., 137 129 112]\n",
      " [129  75 117 ..., 111  98  91]\n",
      " [105  74 113 ..., 108  94  83]]\n",
      "36\n",
      "36\n",
      "{'prob': array([[ 0.99759966,  0.00240037]], dtype=float32)}\n",
      "visage trouvé @ 12 , 60\n"
     ]
    },
    {
     "data": {
      "image/jpeg": "[encoded data removed]",
      "text/plain": [
       "<IPython.core.display.Image object>"
      ]
     },
     "metadata": {},
     "output_type": "display_data"
    },
    {
     "name": "stdout",
     "output_type": "stream",
     "text": [
      "[[131 117 130 ..., 165 125 113]\n",
      " [140 156 178 ..., 178 157 128]\n",
      " [171 186 192 ..., 171 176 153]\n",
      " ..., \n",
      " [220 207 176 ..., 149 135 128]\n",
      " [227 214 188 ..., 169 186 160]\n",
      " [232 225 202 ..., 190 209 195]]\n",
      "36\n",
      "36\n",
      "{'prob': array([[ 0.99778134,  0.00221867]], dtype=float32)}\n",
      "visage trouvé @ 12 , 72\n"
     ]
    },
    {
     "data": {
      "image/jpeg": "[encoded data removed]",
      "text/plain": [
       "<IPython.core.display.Image object>"
      ]
     },
     "metadata": {},
     "output_type": "display_data"
    },
    {
     "name": "stdout",
     "output_type": "stream",
     "text": [
      "[[240 241 221 ...,  19  22  24]\n",
      " [240 242 217 ...,  51  77  80]\n",
      " [239 241 212 ..., 116 138 123]\n",
      " ..., \n",
      " [209 150  86 ...,  70  65  79]\n",
      " [203 142  85 ...,  75  51  70]\n",
      " [192 133  84 ...,  83  53  69]]\n",
      "36\n",
      "36\n",
      "{'prob': array([[ 0.99665689,  0.00334313]], dtype=float32)}\n",
      "visage trouvé @ 24 , 0\n"
     ]
    },
    {
     "data": {
      "image/jpeg": "[encoded data removed]",
      "text/plain": [
       "<IPython.core.display.Image object>"
      ]
     },
     "metadata": {},
     "output_type": "display_data"
    },
    {
     "name": "stdout",
     "output_type": "stream",
     "text": [
      "[[156 153 143 ...,  43  43  45]\n",
      " [157 129  97 ..., 112 120 107]\n",
      " [138  98  64 ...,  96  94  62]\n",
      " ..., \n",
      " [ 81 106 176 ...,  70  62  84]\n",
      " [ 85 110 178 ...,  71  68  95]\n",
      " [ 90 112 178 ...,  59  57  88]]\n",
      "36\n",
      "36\n",
      "[[ 27  25  19 ...,  97  90  90]\n",
      " [ 44  46  50 ...,  99  88  89]\n",
      " [112 106  95 ...,  66  81  76]\n",
      " ..., \n",
      " [127 169 190 ...,  82  52  62]\n",
      " [151 168 189 ...,  86  71  86]\n",
      " [165 172 192 ...,  80  99 136]]\n",
      "36\n",
      "36\n",
      "{'prob': array([[ 0.98777467,  0.01222536]], dtype=float32)}\n",
      "visage trouvé @ 24 , 24\n"
     ]
    },
    {
     "data": {
      "image/jpeg": "[encoded data removed]",
      "text/plain": [
       "<IPython.core.display.Image object>"
      ]
     },
     "metadata": {},
     "output_type": "display_data"
    },
    {
     "name": "stdout",
     "output_type": "stream",
     "text": [
      "[[ 29  34  39 ..., 190 183 179]\n",
      " [ 81  94  98 ..., 181 186 182]\n",
      " [ 91 110 112 ..., 157 167 174]\n",
      " ..., \n",
      " [161 209 153 ...,  77  45  49]\n",
      " [161 208 144 ..., 126  62  66]\n",
      " [162 209 146 ..., 160  99  99]]\n",
      "36\n",
      "36\n",
      "{'prob': array([[ 0.99642545,  0.00357454]], dtype=float32)}\n",
      "visage trouvé @ 24 , 36\n"
     ]
    },
    {
     "data": {
      "image/jpeg": "[encoded data removed]",
      "text/plain": [
       "<IPython.core.display.Image object>"
      ]
     },
     "metadata": {},
     "output_type": "display_data"
    },
    {
     "name": "stdout",
     "output_type": "stream",
     "text": [
      "[[ 47  59  69 ..., 144 154 163]\n",
      " [104 118 131 ..., 139 152 172]\n",
      " [ 55  84 102 ..., 138 147 166]\n",
      " ..., \n",
      " [166 204 153 ..., 182 132 105]\n",
      " [167 201 154 ..., 193 179 147]\n",
      " [166 201 148 ..., 184 190 164]]\n",
      "36\n",
      "36\n",
      "{'prob': array([[ 0.99834836,  0.00165163]], dtype=float32)}\n",
      "visage trouvé @ 24 , 48\n"
     ]
    },
    {
     "data": {
      "image/jpeg": "[encoded data removed]",
      "text/plain": [
       "<IPython.core.display.Image object>"
      ]
     },
     "metadata": {},
     "output_type": "display_data"
    },
    {
     "name": "stdout",
     "output_type": "stream",
     "text": [
      "[[119  98 124 ..., 157 183 198]\n",
      " [118 102 129 ..., 153 180 194]\n",
      " [102  99 124 ..., 168 175 173]\n",
      " ..., \n",
      " [144 187 172 ..., 173 170 133]\n",
      " [157 191 188 ..., 180 176 116]\n",
      " [185 193 200 ..., 183 183 130]]\n",
      "36\n",
      "36\n",
      "{'prob': array([[ 0.99829501,  0.00170495]], dtype=float32)}\n",
      "visage trouvé @ 24 , 60\n"
     ]
    },
    {
     "data": {
      "image/jpeg": "[encoded data removed]",
      "text/plain": [
       "<IPython.core.display.Image object>"
      ]
     },
     "metadata": {},
     "output_type": "display_data"
    },
    {
     "name": "stdout",
     "output_type": "stream",
     "text": [
      "[[186 173 162 ..., 197 191 192]\n",
      " [184 174 165 ..., 181 184 183]\n",
      " [170 166 161 ..., 179 180 173]\n",
      " ..., \n",
      " [ 87 171 189 ..., 130 168 164]\n",
      " [ 90 170 190 ..., 127 169 167]\n",
      " [117 175 187 ..., 155 173 169]]\n",
      "36\n",
      "36\n",
      "{'prob': array([[ 0.99699187,  0.00300806]], dtype=float32)}\n",
      "visage trouvé @ 24 , 72\n"
     ]
    },
    {
     "data": {
      "image/jpeg": "[encoded data removed]",
      "text/plain": [
       "<IPython.core.display.Image object>"
      ]
     },
     "metadata": {},
     "output_type": "display_data"
    },
    {
     "name": "stdout",
     "output_type": "stream",
     "text": [
      "[[248 245 246 ..., 110  97 116]\n",
      " [247 247 246 ...,  61  46  66]\n",
      " [246 246 246 ...,  40  42  51]\n",
      " ..., \n",
      " [ 96  87  83 ...,  95  80 104]\n",
      " [ 96  84  79 ...,  99  70  77]\n",
      " [ 86  77  75 ...,  97  61  67]]\n",
      "36\n",
      "36\n",
      "{'prob': array([[ 0.99851507,  0.00148489]], dtype=float32)}\n",
      "visage trouvé @ 36 , 0\n"
     ]
    },
    {
     "data": {
      "image/jpeg": "[encoded data removed]",
      "text/plain": [
       "<IPython.core.display.Image object>"
      ]
     },
     "metadata": {},
     "output_type": "display_data"
    },
    {
     "name": "stdout",
     "output_type": "stream",
     "text": [
      "[[ 66  86 105 ...,  82  73  74]\n",
      " [ 74 103 126 ...,  47  52  46]\n",
      " [ 74  82  86 ...,  43  45  43]\n",
      " ..., \n",
      " [ 92 105 155 ...,  68  68  97]\n",
      " [ 79  88 148 ...,  72  58  75]\n",
      " [ 50  65 127 ...,  65  47  63]]\n",
      "36\n",
      "36\n",
      "{'prob': array([[ 0.99755424,  0.00244577]], dtype=float32)}\n",
      "visage trouvé @ 36 , 12\n"
     ]
    },
    {
     "data": {
      "image/jpeg": "[encoded data removed]",
      "text/plain": [
       "<IPython.core.display.Image object>"
      ]
     },
     "metadata": {},
     "output_type": "display_data"
    },
    {
     "name": "stdout",
     "output_type": "stream",
     "text": [
      "[[ 78  90  85 ...,  83 155 137]\n",
      " [ 61  85  66 ...,  70 119 114]\n",
      " [ 41  48  37 ...,  58  91 107]\n",
      " ..., \n",
      " [149 170 200 ..., 106  87  76]\n",
      " [176 190 207 ..., 118 102  82]\n",
      " [204 192 202 ...,  94  82  66]]\n",
      "36\n",
      "36\n",
      "{'prob': array([[ 0.99800187,  0.00199808]], dtype=float32)}\n",
      "visage trouvé @ 36 , 24\n"
     ]
    },
    {
     "data": {
      "image/jpeg": "[encoded data removed]",
      "text/plain": [
       "<IPython.core.display.Image object>"
      ]
     },
     "metadata": {},
     "output_type": "display_data"
    },
    {
     "name": "stdout",
     "output_type": "stream",
     "text": [
      "[[107  82 108 ..., 121 116 118]\n",
      " [ 72  53  69 ..., 128 119 121]\n",
      " [ 57  47  48 ..., 122 117 123]\n",
      " ..., \n",
      " [169 197 145 ..., 117  90  58]\n",
      " [152 195 153 ..., 157 155 115]\n",
      " [145 195 158 ..., 152 145 132]]\n",
      "36\n",
      "36\n",
      "{'prob': array([[ 0.99866402,  0.00133598]], dtype=float32)}\n",
      "visage trouvé @ 36 , 36\n"
     ]
    },
    {
     "data": {
      "image/jpeg": "[encoded data removed]",
      "text/plain": [
       "<IPython.core.display.Image object>"
      ]
     },
     "metadata": {},
     "output_type": "display_data"
    },
    {
     "name": "stdout",
     "output_type": "stream",
     "text": [
      "[[ 65  61  82 ..., 135 128 125]\n",
      " [ 39  37  49 ..., 123 120 119]\n",
      " [ 40  42  45 ..., 105 112 129]\n",
      " ..., \n",
      " [169 198 145 ..., 184 156 143]\n",
      " [163 199 147 ..., 186 161 150]\n",
      " [158 199 147 ..., 188 166 155]]\n",
      "36\n",
      "36\n",
      "{'prob': array([[  9.99009132e-01,   9.90879838e-04]], dtype=float32)}\n",
      "visage trouvé @ 36 , 48\n"
     ]
    },
    {
     "data": {
      "image/jpeg": "[encoded data removed]",
      "text/plain": [
       "<IPython.core.display.Image object>"
      ]
     },
     "metadata": {},
     "output_type": "display_data"
    },
    {
     "name": "stdout",
     "output_type": "stream",
     "text": [
      "[[ 69  84 102 ..., 195 174 155]\n",
      " [ 66  83 105 ..., 177 159 142]\n",
      " [ 67  80 115 ..., 150 152 141]\n",
      " ..., \n",
      " [146 182 126 ..., 168 166 125]\n",
      " [142 184 132 ..., 162 166 125]\n",
      " [136 183 136 ..., 164 166 127]]\n",
      "36\n",
      "36\n",
      "{'prob': array([[ 0.9987213 ,  0.00127865]], dtype=float32)}\n",
      "visage trouvé @ 36 , 60\n"
     ]
    },
    {
     "data": {
      "image/jpeg": "[encoded data removed]",
      "text/plain": [
       "<IPython.core.display.Image object>"
      ]
     },
     "metadata": {},
     "output_type": "display_data"
    },
    {
     "name": "stdout",
     "output_type": "stream",
     "text": [
      "[[124 130 130 ..., 133 140 139]\n",
      " [133 149 142 ..., 132 156 156]\n",
      " [138 152 140 ..., 147 166 157]\n",
      " ..., \n",
      " [ 60 141 180 ...,  96 133 166]\n",
      " [ 94 147 182 ...,  92 137 169]\n",
      " [126 154 185 ...,  99 135 170]]\n",
      "36\n",
      "36\n",
      "{'prob': array([[ 0.99796826,  0.00203169]], dtype=float32)}\n",
      "visage trouvé @ 36 , 72\n"
     ]
    },
    {
     "data": {
      "image/jpeg": "[encoded data removed]",
      "text/plain": [
       "<IPython.core.display.Image object>"
      ]
     },
     "metadata": {},
     "output_type": "display_data"
    },
    {
     "name": "stdout",
     "output_type": "stream",
     "text": [
      "38\n"
     ]
    },
    {
     "data": {
      "image/jpeg": "[encoded data removed]",
      "text/plain": [
       "<IPython.core.display.Image object>"
      ]
     },
     "metadata": {},
     "output_type": "display_data"
    },
    {
     "name": "stdout",
     "output_type": "stream",
     "text": [
      "[[242 238 235 ..., 184 187 184]\n",
      " [241 238 234 ..., 174 181 177]\n",
      " [237 238 235 ..., 156 162 159]\n",
      " ..., \n",
      " [ 94 107 150 ..., 114 132  55]\n",
      " [ 89 103 147 ..., 109 138  75]\n",
      " [ 86  99 148 ..., 106 155 123]]\n",
      "36\n",
      "36\n",
      "[[188 168 134 ..., 164 165 176]\n",
      " [187 175 159 ..., 174 173 173]\n",
      " [170 161 164 ..., 171 169 165]\n",
      " ..., \n",
      " [224 204 224 ...,  94 129 148]\n",
      " [178 195 232 ...,  86 111 147]\n",
      " [176 202 228 ...,  78 100 146]]\n",
      "36\n",
      "36\n",
      "{'prob': array([[ 0.98713708,  0.0128629 ]], dtype=float32)}\n",
      "visage trouvé @ 0 , 12\n"
     ]
    },
    {
     "data": {
      "image/jpeg": "[encoded data removed]",
      "text/plain": [
       "<IPython.core.display.Image object>"
      ]
     },
     "metadata": {},
     "output_type": "display_data"
    }
   ],
   "source": [
    "im =  cv2.imread('test_vis.jpg')\n",
    "im = cv2.cvtColor(im, cv2.COLOR_BGR2GRAY)\n",
    "im = cv2.pyrDown(im)\n",
    "im = cv2.pyrDown(im)\n",
    "while len(im) >=36*2 and len(im[0]) >36*2:\n",
    "    im = cv2.pyrDown(im)\n",
    "    \n",
    "    print len(im)\n",
    "    showarray(im)\n",
    "    w = len(im)\n",
    "    h = len(im[0])\n",
    "    i = 0\n",
    "    j = 0\n",
    "    while i < w-36:\n",
    "        while j < h-36:\n",
    "            imtmp = im [i:i+36, j:j+36]\n",
    "            net.blobs['data'].data[...] = imtmp\n",
    "            print (imtmp)\n",
    "            print(len(imtmp))\n",
    "            print(len(imtmp[0]))\n",
    "            output = net.forward()\n",
    "            if output['prob'][0][0] >0.98:\n",
    "                print output\n",
    "                print \"visage trouvé @ %i , %i\"%(i, j)\n",
    "                showarray(imtmp)\n",
    "            j+=12\n",
    "        i+=12\n",
    "        j = 0"
   ]
  },
  {
   "cell_type": "code",
   "execution_count": 15,
   "metadata": {
    "ExecuteTime": {
     "end_time": "2016-11-02T10:40:12.487000",
     "start_time": "2016-11-02T10:40:12.483000"
    },
    "collapsed": false
   },
   "outputs": [
    {
     "data": {
      "image/png": "Y2F0X290aGVyLmpwZw==\n",
      "text/plain": [
       "<IPython.core.display.Image object>"
      ]
     },
     "metadata": {},
     "output_type": "display_data"
    }
   ],
   "source": [
    "display(Image('cat_other.jpg'))"
   ]
  },
  {
   "cell_type": "code",
   "execution_count": null,
   "metadata": {
    "collapsed": true
   },
   "outputs": [],
   "source": []
  },
  {
   "cell_type": "code",
   "execution_count": null,
   "metadata": {
    "collapsed": true
   },
   "outputs": [],
   "source": []
  }
 ],
 "metadata": {
  "anaconda-cloud": {},
  "kernelspec": {
   "display_name": "Python 2",
   "language": "python",
   "name": "python2"
  },
  "language_info": {
   "codemirror_mode": {
    "name": "ipython",
    "version": 2
   },
   "file_extension": ".py",
   "mimetype": "text/x-python",
   "name": "python",
   "nbconvert_exporter": "python",
   "pygments_lexer": "ipython2",
   "version": "2.7.12"
  },
  "nav_menu": {},
  "toc": {
   "navigate_menu": true,
   "number_sections": true,
   "sideBar": true,
   "threshold": 6,
   "toc_cell": false,
   "toc_section_display": "block",
   "toc_window_display": false
  }
 },
 "nbformat": 4,
 "nbformat_minor": 0
}
